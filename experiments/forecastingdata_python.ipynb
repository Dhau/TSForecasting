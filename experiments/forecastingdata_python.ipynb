{
  "nbformat": 4,
  "nbformat_minor": 0,
  "metadata": {
    "colab": {
      "name": "forecastingdata python",
      "provenance": [],
      "authorship_tag": "ABX9TyPDwhZGWO9CtcNIjfpnBAbZ",
      "include_colab_link": true
    },
    "kernelspec": {
      "name": "python3",
      "display_name": "Python 3"
    },
    "language_info": {
      "name": "python"
    }
  },
  "cells": [
    {
      "cell_type": "markdown",
      "metadata": {
        "id": "view-in-github",
        "colab_type": "text"
      },
      "source": [
        "<a href=\"https://colab.research.google.com/github/pmontman/TSForecasting/blob/master/experiments/forecastingdata_python.ipynb\" target=\"_parent\"><img src=\"https://colab.research.google.com/assets/colab-badge.svg\" alt=\"Open In Colab\"/></a>"
      ]
    },
    {
      "cell_type": "markdown",
      "metadata": {
        "id": "R4AUfZ_qqYcQ"
      },
      "source": [
        "## Notebook for accessing Forecastingdata feature extraction tools using python\n",
        "\n",
        "The feature calculation and other utilities are implemented in R, but we can access them *transparently* from python using the awesome rpy2 package.\n",
        "This notebook show an example for it.\n",
        "\n",
        "\n",
        "It has two parts. Part 1 is the preparation of the environment so everything\n",
        "rund directly on python. Part2 is an example of how to use the tools directly from python."
      ]
    },
    {
      "cell_type": "markdown",
      "metadata": {
        "id": "KnPXANAz-H1X"
      },
      "source": [
        "## Part 1) Preparation of the environment"
      ]
    },
    {
      "cell_type": "markdown",
      "metadata": {
        "id": "WW8eLpvc6mRW"
      },
      "source": [
        "We load the R extension for jupyter, which interacts nicely with python"
      ]
    },
    {
      "cell_type": "code",
      "metadata": {
        "id": "PApAXyc6r6SV"
      },
      "source": [
        "#@title\n",
        "%load_ext rpy2.ipython"
      ],
      "execution_count": null,
      "outputs": []
    },
    {
      "cell_type": "markdown",
      "metadata": {
        "id": "9vSYen5A6wAl"
      },
      "source": [
        "Clone the repository, for reproducibility, no need to clone everytime."
      ]
    },
    {
      "cell_type": "code",
      "metadata": {
        "colab": {
          "base_uri": "https://localhost:8080/"
        },
        "id": "0cFcT8wkqXke",
        "outputId": "39818447-b1cc-4492-822e-975e2c6113af"
      },
      "source": [
        "!git clone https://github.com/rakshitha123/TSForecasting"
      ],
      "execution_count": null,
      "outputs": [
        {
          "output_type": "stream",
          "text": [
            "fatal: destination path 'TSForecasting' already exists and is not an empty directory.\n"
          ],
          "name": "stdout"
        }
      ]
    },
    {
      "cell_type": "markdown",
      "metadata": {
        "id": "NBgeddI662U1"
      },
      "source": [
        "We now prepare the R environment for processing: installing and loading the required packages"
      ]
    },
    {
      "cell_type": "code",
      "metadata": {
        "colab": {
          "base_uri": "https://localhost:8080/"
        },
        "id": "-_ONfdCbrnvR",
        "outputId": "56381b40-458c-41f1-a780-6544abb3212c"
      },
      "source": [
        "%%R\n",
        "devtools::install_github(\"hendersontrent/catch22\")\n",
        "install.packages(\"tsibble\")\n",
        "install.packages(\"forecast\")\n",
        "install.packages(\"tsfeatures\")\n",
        "library(\"Rcatch22\")"
      ],
      "execution_count": null,
      "outputs": [
        {
          "output_type": "stream",
          "text": [
            "R[write to console]: Skipping install of 'Rcatch22' from a github remote, the SHA1 (a93d1a9b) has not changed since last install.\n",
            "  Use `force = TRUE` to force installation\n",
            "\n",
            "R[write to console]: Installing package into ‘/usr/local/lib/R/site-library’\n",
            "(as ‘lib’ is unspecified)\n",
            "\n",
            "R[write to console]: trying URL 'https://cran.rstudio.com/src/contrib/tsfeatures_1.0.2.tar.gz'\n",
            "\n",
            "R[write to console]: Content type 'application/x-gzip'\n",
            "R[write to console]:  length 146035 bytes (142 KB)\n",
            "\n",
            "R[write to console]: =\n",
            "R[write to console]: =\n",
            "R[write to console]: =\n",
            "R[write to console]: =\n",
            "R[write to console]: =\n",
            "R[write to console]: =\n",
            "R[write to console]: =\n",
            "R[write to console]: =\n",
            "R[write to console]: =\n",
            "R[write to console]: =\n",
            "R[write to console]: =\n",
            "R[write to console]: =\n",
            "R[write to console]: =\n",
            "R[write to console]: =\n",
            "R[write to console]: =\n",
            "R[write to console]: =\n",
            "R[write to console]: =\n",
            "R[write to console]: =\n",
            "R[write to console]: =\n",
            "R[write to console]: =\n",
            "R[write to console]: =\n",
            "R[write to console]: =\n",
            "R[write to console]: =\n",
            "R[write to console]: =\n",
            "R[write to console]: =\n",
            "R[write to console]: =\n",
            "R[write to console]: =\n",
            "R[write to console]: =\n",
            "R[write to console]: =\n",
            "R[write to console]: =\n",
            "R[write to console]: =\n",
            "R[write to console]: =\n",
            "R[write to console]: =\n",
            "R[write to console]: =\n",
            "R[write to console]: =\n",
            "R[write to console]: =\n",
            "R[write to console]: =\n",
            "R[write to console]: =\n",
            "R[write to console]: =\n",
            "R[write to console]: =\n",
            "R[write to console]: =\n",
            "R[write to console]: =\n",
            "R[write to console]: =\n",
            "R[write to console]: =\n",
            "R[write to console]: =\n",
            "R[write to console]: =\n",
            "R[write to console]: =\n",
            "R[write to console]: =\n",
            "R[write to console]: =\n",
            "R[write to console]: =\n",
            "R[write to console]: \n",
            "\n",
            "R[write to console]: downloaded 142 KB\n",
            "\n",
            "\n",
            "R[write to console]: \n",
            "\n",
            "R[write to console]: \n",
            "R[write to console]: The downloaded source packages are in\n",
            "\t‘/tmp/Rtmp31kiMu/downloaded_packages’\n",
            "R[write to console]: \n",
            "R[write to console]: \n",
            "\n"
          ],
          "name": "stderr"
        }
      ]
    },
    {
      "cell_type": "code",
      "metadata": {
        "id": "Smk6dbiyt2mN"
      },
      "source": [
        "#%%R\n",
        "#print(length(SEASONALITY_VALS))\n",
        "#print(FREQUENCIES)"
      ],
      "execution_count": null,
      "outputs": []
    },
    {
      "cell_type": "code",
      "metadata": {
        "colab": {
          "base_uri": "https://localhost:8080/"
        },
        "id": "l4MQ71JGsTss",
        "outputId": "451ba11f-3ce0-4356-f730-948b133edb70"
      },
      "source": [
        "%%R\n",
        "library(tidyverse)\n",
        "library(Rcatch22)\n",
        "\n",
        "BASE_DIR <- \"TSForecasting\"\n",
        "\n",
        "source(file.path(BASE_DIR, \"utils\", \"data_loader.R\", fsep = \"/\"))\n",
        "\n",
        "# The name of the column containing time series values after loading data from the .tsf file into a tsibble\n",
        "VALUE_COL_NAME <- \"series_value\"\n",
        "\n",
        "# seasonality values corresponding with the frequencies: 4_seconds, minutely, 10_minutes, half_hourly, hourly, daily, weekly, monthly, quarterly and yearly\n",
        "# consider multiple seasonalities for frequencies less than daily\n",
        "SEASONALITY_VALS <- list()\n",
        "SEASONALITY_VALS[[1]] <- c(21600, 151200, 7889400)\n",
        "SEASONALITY_VALS[[2]] <- c(1440, 10080, 525960)\n",
        "SEASONALITY_VALS[[3]] <- c(144, 1008, 52596)\n",
        "SEASONALITY_VALS[[4]] <- c(48, 336, 17532)\n",
        "SEASONALITY_VALS[[5]] <- c(24, 168, 8766)\n",
        "SEASONALITY_VALS[[6]] <- 7\n",
        "SEASONALITY_VALS[[7]] <- 365.25/7\n",
        "SEASONALITY_VALS[[8]] <- 12 \n",
        "SEASONALITY_VALS[[9]] <- 4\n",
        "SEASONALITY_VALS[[10]] <- 1  \n",
        "\n",
        "SEASONALITY_MAP <- list()\n",
        "\n",
        "for(f in seq_along(FREQUENCIES)) {\n",
        "    if (f > 10) next;\n",
        "  SEASONALITY_MAP[[FREQUENCIES[f]]] <- SEASONALITY_VALS[[f]]\n",
        "}\n",
        "# Considered set of tsfeatures except mean, variance and stl_features\n",
        "TSFEATURE_NAMES <- c( \"max_kl_shift\",\n",
        "                      \"max_level_shift\",\n",
        "                      \"max_var_shift\",\n",
        "                      \"acf_features\",\n",
        "                      \"arch_stat\",\n",
        "                      \"crossing_points\",\n",
        "                      \"entropy\",\n",
        "                      \"flat_spots\",\n",
        "                      \"holt_parameters\",\n",
        "                      \"hurst\",\n",
        "                      \"lumpiness\",\n",
        "                      \"nonlinearity\",\n",
        "                      \"pacf_features\",\n",
        "                      \"stability\",\n",
        "                      \"unitroot_kpss\",\n",
        "                      \"unitroot_pp\"\n",
        ")"
      ],
      "execution_count": null,
      "outputs": [
        {
          "output_type": "stream",
          "text": [
            "R[write to console]: ── Attaching packages ─────────────────────────────────────── tidyverse 1.3.1 ──\n",
            "\n",
            "R[write to console]: ✔ ggplot2 3.3.5     ✔ purrr   0.3.4\n",
            "✔ tibble  3.1.2     ✔ dplyr   1.0.7\n",
            "✔ tidyr   1.1.3     ✔ stringr 1.4.0\n",
            "✔ readr   1.4.0     ✔ forcats 0.5.1\n",
            "\n",
            "R[write to console]: ── Conflicts ────────────────────────────────────────── tidyverse_conflicts() ──\n",
            "✖ dplyr::filter() masks stats::filter()\n",
            "✖ dplyr::lag()    masks stats::lag()\n",
            "\n"
          ],
          "name": "stderr"
        }
      ]
    },
    {
      "cell_type": "markdown",
      "metadata": {
        "id": "gnYXwq5Z7WcQ"
      },
      "source": [
        "The R code for the function that calculates the features"
      ]
    },
    {
      "cell_type": "code",
      "metadata": {
        "cellView": "form",
        "id": "k5U01hS4vPMU"
      },
      "source": [
        "#@title R calculate_features\n",
        "%%R\n",
        "\n",
        "# This function calculates tsfeatures, catch22 features and BoxCox lambda values\n",
        "# Parameters\n",
        "# dataset_name - the name of the dataset\n",
        "# input_file_name - name of the .tsf file corresponding with the dataset\n",
        "# key - the name of the attribute that should be used as the key when creating the tsibble\n",
        "# index - the name of the time attribute that should be used as the index when creating the tsibble\n",
        "# feature_type  - tsfeatures, catch22 or lambda\n",
        "calculate_features <- function(dataset_name, input_file_name, key = NULL, index = NULL, feature_type = \"tsfeatures\"){\n",
        "  \n",
        "  print(paste0(\"Started feature calculation: \", dataset_name))\n",
        "  \n",
        "  # Defining output file name\n",
        "  if(feature_type == \"lambda\")\n",
        "    output_file_name <- paste0(dataset_name, \"_lambdas.csv\")\n",
        "  else\n",
        "    output_file_name <- paste0(dataset_name, \"_features.csv\")\n",
        "  \n",
        "  \n",
        "  # Loading data from the .tsf file\n",
        "  loaded_data <- convert_tsf_to_tsibble(file.path(BASE_DIR, \"tsf_data\", input_file_name, fsep = \"/\"), VALUE_COL_NAME, key, index)\n",
        "  dataset <- loaded_data[[1]]\n",
        "  frequency <- loaded_data[[2]]\n",
        "  \n",
        "  if(!is.null(frequency))\n",
        "    seasonality <- SEASONALITY_MAP[[frequency]]\n",
        "  else\n",
        "    seasonality <- 1\n",
        "  \n",
        "  all_serie_names <- unique(dataset$series_name)\n",
        "  tslist <- list()\n",
        "  \n",
        "  for(s in seq_along(all_serie_names)){\n",
        "    series_data <- dataset[dataset$series_name == as.character(all_serie_names[s]), ]\n",
        "    \n",
        "    if(is.null(index))\n",
        "      series <- forecast:::msts(series_data[[VALUE_COL_NAME]], seasonal.periods = seasonality)\n",
        "    else{\n",
        "      start_date <- start(as.ts(series_data[, c(index, VALUE_COL_NAME)], frequency = max(seasonality)))\n",
        "      \n",
        "      if(length(start_date) == 1){ # Prepararing the start date according to the format required by stl_features such as peak and trough\n",
        "        start_date <- c(floor(start_date), floor((start_date - floor(start_date)) * max(seasonality)))\n",
        "      }\n",
        "      \n",
        "      series <- forecast:::msts(series_data[[VALUE_COL_NAME]], start = start_date, seasonal.periods = seasonality, ts.frequency = floor(max(seasonality)))\n",
        "    }\n",
        "    \n",
        "    tslist[[s]] <- series\n",
        "  }\n",
        "  \n",
        "  \n",
        "  for(i in 1:length(tslist)){\n",
        "    print(i)\n",
        "    \n",
        "    features <- NULL\n",
        "    \n",
        "    if(feature_type == \"tsfeatures\"){ # Calculating tsfeatures\n",
        "      features <- tsfeatures:::tsfeatures(tslist[[i]], c(\"mean\",\"var\"), scale = FALSE, na.rm = TRUE)\n",
        "      \n",
        "      for(f in TSFEATURE_NAMES){\n",
        "        calculated_features <- tsfeatures:::tsfeatures(tslist[[i]], features = f)\n",
        "        \n",
        "        if(sum(is.na(calculated_features)) > 0){ # if the calculated features contain missing values, then consider freequency as 1\n",
        "          calculated_features <- tsfeatures:::tsfeatures(ts(tslist[[i]], frequency = 1), features = f)\n",
        "          \n",
        "          if(sum(is.na(calculated_features)) > 0){ # Still if there are missing values, modify the parameters of the corresponding function\n",
        "            if(f == \"max_kl_shift\" | f == \"max_level_shift\" | f == \"max_var_shift\")\n",
        "              calculated_features <- tsfeatures:::tsfeatures(tslist[[i]], features = f, width = 1)\n",
        "            else{\n",
        "              if(f == \"arch_stat\")\n",
        "                calculated_features <- tsfeatures:::tsfeatures(tslist[[i]], features = f, lag = 1)\n",
        "            }\n",
        "          }\n",
        "        }\n",
        "        \n",
        "        features <- bind_cols(features, calculated_features)\n",
        "      }\n",
        "      \n",
        "      # Calculating stl_features\n",
        "      tryCatch( \n",
        "        seasonal_features <- tsfeatures:::tsfeatures(tslist[[i]],\"stl_features\", s.window = 'periodic', robust = TRUE)\n",
        "        , error = function(e) {\n",
        "          tryCatch({\n",
        "            seasonal_features <<- tsfeatures:::tsfeatures(tslist[[i]],\"stl_features\")\n",
        "          }, error = function(e) {\n",
        "            seasonal_features <<- tsfeatures:::tsfeatures(ts(tslist[[i]], frequency = 1),\"stl_features\") # Ignoring seasonality\n",
        "          })\n",
        "        })\n",
        "      \n",
        "      features <- bind_cols(features, seasonal_features)\n",
        "      \n",
        "      if(i == 1){\n",
        "        all_features <- matrix(NA, nrow = length(tslist), ncol = ncol(features)) # Creating a matrix to store the calculated features\n",
        "        colnames(all_features) <- colnames(features)\n",
        "      }else{\n",
        "        if(ncol(all_features) != ncol(features)){ # The features common to all series will be considered finally\n",
        "          common_features <- intersect(colnames(all_features), colnames(features))\n",
        "          all_features <- all_features[,common_features]\n",
        "          features <- features[, common_features]\n",
        "        }\n",
        "      }\n",
        "      \n",
        "      all_features[i,] <- as.numeric(features)\n",
        "      \n",
        "    }else if(feature_type == \"catch22\"){ # Calculating catch22 features\n",
        "      \n",
        "      features <- catch22_all(tslist[[i]])\n",
        "      \n",
        "      if(i == 1){\n",
        "        all_features <- matrix(NA, nrow = length(tslist), ncol = 22) # Creating a matrix to store the calculated features\n",
        "        colnames(all_features) <- features$names\n",
        "      }\n",
        "      \n",
        "      all_features[i,] <- features$values \n",
        "    }else{\n",
        "      if(i == 1) # Calculating BoxCox lambda values\n",
        "        lambdas <- forecast:::BoxCox.lambda(tslist[[i]])\n",
        "      else\n",
        "        lambdas <- c(lambdas, forecast:::BoxCox.lambda(tslist[[i]]))\n",
        "    }\n",
        "  }\n",
        "  \n",
        "  # Writing the calculated features into a file\n",
        "  if(feature_type == \"tsfeatures\")\n",
        "    write.table(all_features, file.path(BASE_DIR, \"results\", \"tsfeatures\", output_file_name, fsep = \"/\"), row.names = FALSE, col.names = TRUE, sep = \",\", quote = FALSE)\n",
        "  else if(feature_type == \"catch22\")\n",
        "    write.table(all_features, file.path(BASE_DIR, \"results\", \"catch22_features\", output_file_name, fsep = \"/\"), row.names = FALSE, col.names = TRUE, sep = \",\", quote = FALSE)\n",
        "  else\n",
        "    write.table(lambdas, file.path(BASE_DIR, \"results\", \"lambdas\", output_file_name, fsep = \"/\"), row.names = FALSE, col.names = FALSE, sep = \",\", quote = FALSE)\n",
        "}"
      ],
      "execution_count": null,
      "outputs": []
    },
    {
      "cell_type": "markdown",
      "metadata": {
        "id": "j8EkVX3n7bkv"
      },
      "source": [
        "We need to create the directory structure. **THIS SHOULD BE FIXED IN THE REPO**"
      ]
    },
    {
      "cell_type": "code",
      "metadata": {
        "id": "ObSxMt77x90n"
      },
      "source": [
        "%%R\n",
        "dir.create(\"TSForecasting/results/\")\n",
        "dir.create(\"TSForecasting/results/tsfeatures\")\n",
        "dir.create(\"TSForecasting/results/catch22_features\")"
      ],
      "execution_count": null,
      "outputs": []
    },
    {
      "cell_type": "code",
      "metadata": {
        "colab": {
          "base_uri": "https://localhost:8080/"
        },
        "id": "Yzpo5yKryWH5",
        "outputId": "70ab98ac-8d3d-4255-d98d-93d2ecf2843c"
      },
      "source": [
        "!ls -r TSForecasting/results"
      ],
      "execution_count": null,
      "outputs": [
        {
          "output_type": "stream",
          "text": [
            "tsfeatures  catch22_features  catch22\n"
          ],
          "name": "stdout"
        }
      ]
    },
    {
      "cell_type": "code",
      "metadata": {
        "colab": {
          "base_uri": "https://localhost:8080/"
        },
        "id": "NWikl5qdvGPH",
        "outputId": "508396b8-e012-4316-c5cf-4eca69441f51"
      },
      "source": [
        "%%R\n",
        "\n",
        "calculate_features(\"sample\", \"sample.tsf\", \"series_name\", \"start_timestamp\", \"catch22\")"
      ],
      "execution_count": null,
      "outputs": [
        {
          "output_type": "stream",
          "text": [
            "[1] \"Started feature calculation: sample\"\n",
            "Note: Using an external vector in selections is ambiguous.\n",
            "ℹ Use `all_of(key)` instead of `key` to silence this message.\n",
            "ℹ See <https://tidyselect.r-lib.org/reference/faq-external-vector.html>.\n",
            "This message is displayed once per session.\n"
          ],
          "name": "stdout"
        },
        {
          "output_type": "stream",
          "text": [
            "R[write to console]: Registered S3 method overwritten by 'quantmod':\n",
            "  method            from\n",
            "  as.zoo.data.frame zoo \n",
            "\n"
          ],
          "name": "stderr"
        },
        {
          "output_type": "stream",
          "text": [
            "[1] 1\n",
            "[1] 2\n",
            "[1] 3\n",
            "[1] 4\n",
            "[1] 5\n",
            "[1] 6\n",
            "[1] 7\n",
            "[1] 8\n",
            "[1] 9\n",
            "[1] 10\n",
            "[1] 11\n",
            "[1] 12\n",
            "[1] 13\n",
            "[1] 14\n",
            "[1] 15\n",
            "[1] 16\n",
            "[1] 17\n",
            "[1] 18\n",
            "[1] 19\n",
            "[1] 20\n",
            "[1] 21\n",
            "[1] 22\n",
            "[1] 23\n",
            "[1] 24\n",
            "[1] 25\n",
            "[1] 26\n",
            "[1] 27\n",
            "[1] 28\n",
            "[1] 29\n",
            "[1] 30\n",
            "[1] 31\n",
            "[1] 32\n",
            "[1] 33\n",
            "[1] 34\n",
            "[1] 35\n",
            "[1] 36\n",
            "[1] 37\n",
            "[1] 38\n",
            "[1] 39\n",
            "[1] 40\n",
            "[1] 41\n",
            "[1] 42\n",
            "[1] 43\n",
            "[1] 44\n",
            "[1] 45\n",
            "[1] 46\n",
            "[1] 47\n",
            "[1] 48\n",
            "[1] 49\n",
            "[1] 50\n",
            "[1] 51\n",
            "[1] 52\n",
            "[1] 53\n",
            "[1] 54\n",
            "[1] 55\n",
            "[1] 56\n",
            "[1] 57\n",
            "[1] 58\n",
            "[1] 59\n",
            "[1] 60\n",
            "[1] 61\n",
            "[1] 62\n",
            "[1] 63\n",
            "[1] 64\n",
            "[1] 65\n",
            "[1] 66\n",
            "[1] 67\n",
            "[1] 68\n",
            "[1] 69\n",
            "[1] 70\n",
            "[1] 71\n",
            "[1] 72\n",
            "[1] 73\n",
            "[1] 74\n",
            "[1] 75\n",
            "[1] 76\n",
            "[1] 77\n",
            "[1] 78\n",
            "[1] 79\n",
            "[1] 80\n",
            "[1] 81\n",
            "[1] 82\n",
            "[1] 83\n",
            "[1] 84\n",
            "[1] 85\n",
            "[1] 86\n",
            "[1] 87\n",
            "[1] 88\n",
            "[1] 89\n",
            "[1] 90\n",
            "[1] 91\n",
            "[1] 92\n",
            "[1] 93\n",
            "[1] 94\n",
            "[1] 95\n",
            "[1] 96\n",
            "[1] 97\n",
            "[1] 98\n",
            "[1] 99\n",
            "[1] 100\n",
            "[1] 101\n",
            "[1] 102\n",
            "[1] 103\n",
            "[1] 104\n",
            "[1] 105\n",
            "[1] 106\n",
            "[1] 107\n",
            "[1] 108\n",
            "[1] 109\n",
            "[1] 110\n",
            "[1] 111\n",
            "[1] 112\n",
            "[1] 113\n",
            "[1] 114\n",
            "[1] 115\n",
            "[1] 116\n",
            "[1] 117\n",
            "[1] 118\n",
            "[1] 119\n",
            "[1] 120\n",
            "[1] 121\n",
            "[1] 122\n",
            "[1] 123\n",
            "[1] 124\n",
            "[1] 125\n",
            "[1] 126\n",
            "[1] 127\n",
            "[1] 128\n",
            "[1] 129\n",
            "[1] 130\n",
            "[1] 131\n",
            "[1] 132\n",
            "[1] 133\n",
            "[1] 134\n",
            "[1] 135\n",
            "[1] 136\n",
            "[1] 137\n",
            "[1] 138\n",
            "[1] 139\n",
            "[1] 140\n",
            "[1] 141\n",
            "[1] 142\n",
            "[1] 143\n",
            "[1] 144\n",
            "[1] 145\n",
            "[1] 146\n",
            "[1] 147\n",
            "[1] 148\n",
            "[1] 149\n",
            "[1] 150\n",
            "[1] 151\n",
            "[1] 152\n",
            "[1] 153\n",
            "[1] 154\n",
            "[1] 155\n",
            "[1] 156\n",
            "[1] 157\n",
            "[1] 158\n",
            "[1] 159\n",
            "[1] 160\n",
            "[1] 161\n",
            "[1] 162\n",
            "[1] 163\n",
            "[1] 164\n",
            "[1] 165\n",
            "[1] 166\n",
            "[1] 167\n",
            "[1] 168\n",
            "[1] 169\n",
            "[1] 170\n",
            "[1] 171\n",
            "[1] 172\n",
            "[1] 173\n",
            "[1] 174\n",
            "[1] 175\n",
            "[1] 176\n",
            "[1] 177\n",
            "[1] 178\n",
            "[1] 179\n",
            "[1] 180\n",
            "[1] 181\n",
            "[1] 182\n",
            "[1] 183\n",
            "[1] 184\n",
            "[1] 185\n",
            "[1] 186\n",
            "[1] 187\n",
            "[1] 188\n",
            "[1] 189\n",
            "[1] 190\n",
            "[1] 191\n",
            "[1] 192\n",
            "[1] 193\n",
            "[1] 194\n",
            "[1] 195\n",
            "[1] 196\n",
            "[1] 197\n",
            "[1] 198\n",
            "[1] 199\n",
            "[1] 200\n",
            "[1] 201\n",
            "[1] 202\n",
            "[1] 203\n",
            "[1] 204\n",
            "[1] 205\n",
            "[1] 206\n",
            "[1] 207\n",
            "[1] 208\n",
            "[1] 209\n",
            "[1] 210\n",
            "[1] 211\n",
            "[1] 212\n",
            "[1] 213\n",
            "[1] 214\n",
            "[1] 215\n",
            "[1] 216\n",
            "[1] 217\n",
            "[1] 218\n",
            "[1] 219\n",
            "[1] 220\n",
            "[1] 221\n",
            "[1] 222\n",
            "[1] 223\n",
            "[1] 224\n",
            "[1] 225\n",
            "[1] 226\n",
            "[1] 227\n",
            "[1] 228\n",
            "[1] 229\n",
            "[1] 230\n",
            "[1] 231\n",
            "[1] 232\n",
            "[1] 233\n",
            "[1] 234\n",
            "[1] 235\n",
            "[1] 236\n",
            "[1] 237\n",
            "[1] 238\n",
            "[1] 239\n",
            "[1] 240\n",
            "[1] 241\n",
            "[1] 242\n",
            "[1] 243\n",
            "[1] 244\n",
            "[1] 245\n",
            "[1] 246\n",
            "[1] 247\n",
            "[1] 248\n",
            "[1] 249\n",
            "[1] 250\n",
            "[1] 251\n",
            "[1] 252\n",
            "[1] 253\n",
            "[1] 254\n",
            "[1] 255\n",
            "[1] 256\n",
            "[1] 257\n",
            "[1] 258\n",
            "[1] 259\n",
            "[1] 260\n",
            "[1] 261\n",
            "[1] 262\n",
            "[1] 263\n",
            "[1] 264\n",
            "[1] 265\n",
            "[1] 266\n",
            "[1] 267\n",
            "[1] 268\n",
            "[1] 269\n",
            "[1] 270\n",
            "[1] 271\n",
            "[1] 272\n",
            "[1] 273\n",
            "[1] 274\n",
            "[1] 275\n",
            "[1] 276\n",
            "[1] 277\n",
            "[1] 278\n",
            "[1] 279\n",
            "[1] 280\n",
            "[1] 281\n",
            "[1] 282\n",
            "[1] 283\n",
            "[1] 284\n",
            "[1] 285\n",
            "[1] 286\n",
            "[1] 287\n",
            "[1] 288\n",
            "[1] 289\n",
            "[1] 290\n",
            "[1] 291\n",
            "[1] 292\n",
            "[1] 293\n",
            "[1] 294\n",
            "[1] 295\n",
            "[1] 296\n",
            "[1] 297\n",
            "[1] 298\n",
            "[1] 299\n"
          ],
          "name": "stdout"
        }
      ]
    },
    {
      "cell_type": "markdown",
      "metadata": {
        "id": "DRGajjI4zFaY"
      },
      "source": [
        "## Part 2) Calculating features directly on Python"
      ]
    },
    {
      "cell_type": "markdown",
      "metadata": {
        "id": "TXtt5JaX3lkL"
      },
      "source": [
        "Load the function into python environment through rpy2 so\n",
        "it can be later accessed directly from python code"
      ]
    },
    {
      "cell_type": "code",
      "metadata": {
        "id": "JgEtQkSszEZq"
      },
      "source": [
        "import rpy2.robjects as robjects\n",
        "calculate_features = robjects.r['calculate_features']"
      ],
      "execution_count": null,
      "outputs": []
    },
    {
      "cell_type": "markdown",
      "metadata": {
        "id": "x9_Z_fov31G5"
      },
      "source": [
        "\n",
        "we can now call `calculate_features` directly from python, here we have two examples using both the 'tsfeatures' and the 'catch22' features.\n",
        "We will first remove the files just in case"
      ]
    },
    {
      "cell_type": "code",
      "metadata": {
        "colab": {
          "base_uri": "https://localhost:8080/"
        },
        "id": "A9tErll4-jAr",
        "outputId": "045ae9ad-1cc2-4d1d-d2e7-b0dcb1f98adf"
      },
      "source": [
        "!mkdir TSForecasting/results\n",
        "!mkdir TSForecasting/results/tsfeatures\n",
        "!mkdir TSForecasting/results/catch22_features"
      ],
      "execution_count": null,
      "outputs": [
        {
          "output_type": "stream",
          "text": [
            "mkdir: cannot create directory ‘TSForecasting/results’: File exists\n",
            "mkdir: cannot create directory ‘TSForecasting/results/tsfeatures’: File exists\n",
            "mkdir: cannot create directory ‘TSForecasting/results/catch22_features’: File exists\n"
          ],
          "name": "stdout"
        }
      ]
    },
    {
      "cell_type": "code",
      "metadata": {
        "id": "hiIqsZVn5AQk"
      },
      "source": [
        "!rm TSForecasting/results/tsfeatures/sample_features.csv\n",
        "!rm TSForecasting/results/catch22_features/sample_features.csv"
      ],
      "execution_count": null,
      "outputs": []
    },
    {
      "cell_type": "markdown",
      "metadata": {
        "id": "4vTrBGvC5RbD"
      },
      "source": [
        "Compute the features, we capture the stdout output to remove the verbosiness  of the progress report"
      ]
    },
    {
      "cell_type": "code",
      "metadata": {
        "id": "2dUeI4eK3gdl"
      },
      "source": [
        "%%capture cap --no-stderr\n",
        "calculate_features(\"sample\", \"sample.tsf\", \"series_name\", \"start_timestamp\", \"tsfeatures\")\n",
        "calculate_features(\"sample\", \"sample.tsf\", \"series_name\", \"start_timestamp\", \"catch22\")"
      ],
      "execution_count": null,
      "outputs": []
    },
    {
      "cell_type": "markdown",
      "metadata": {
        "id": "b9kj6-716Kr_"
      },
      "source": [
        "The functions write the outputs to .csv files in the project directory\n",
        "structure. We can quickly check if the experiments runs OK, we should see some features in the following files."
      ]
    },
    {
      "cell_type": "code",
      "metadata": {
        "colab": {
          "base_uri": "https://localhost:8080/"
        },
        "id": "9bQeEs0h4GEp",
        "outputId": "5606ff40-1992-4d23-c43e-2889a274e655"
      },
      "source": [
        "!echo \"head of the tsfeatures features\"\n",
        "!ls -r TSForecasting/results/tsfeatures\n",
        "!head -5 TSForecasting/results/tsfeatures/sample_features.csv\n",
        "!echo \"head of the catch22 features\"\n",
        "!ls -r TSForecasting/results/catch22_features\n",
        "!head -5 TSForecasting/results/catch22_features/sample_features.csv"
      ],
      "execution_count": null,
      "outputs": [
        {
          "output_type": "stream",
          "text": [
            "head of the tsfeatures features\n",
            "sample_features.csv\n",
            "mean,var,max_kl_shift,time_kl_shift,max_level_shift,time_level_shift,max_var_shift,time_var_shift,x_acf1,x_acf10,diff1_acf1,diff1_acf10,diff2_acf1,diff2_acf10,seas_acf1,ARCH.LM,crossing_points,entropy,flat_spots,alpha,beta,hurst,lumpiness,nonlinearity,x_pacf5,diff1x_pacf5,diff2x_pacf5,seas_pacf,stability,unitroot_kpss,unitroot_pp,nperiods,seasonal_period,trend,spike,linearity,curvature,e_acf1,e_acf10,seasonal_strength,peak,trough\n",
            "105.652455128205,669.530932765715,7.83133691877834,12,1.86816865937618,89,2.15074891552011,28,0.710805797539225,1.51175743379058,-0.239716429411997,0.105249143633781,-0.539721534779089,0.372057773793558,-0.0145394944907041,0.257725362872141,22,0.795329846811296,14,0.628482857552452,0.000100053599224661,0.989518146632079,0.152842055714045,0.315470866286382,0.530751963124808,0.104820622256713,0.656220390192105,-0.0296746509672276,0.627384823226218,0.459213533792908,-39.7197694054302,1,12,0.572759852670852,0.000101335772515826,-3.09077882145926,1.9328387873509,0.434750667651255,0.217444531248644,0.0268022351093589,7,3\n",
            "49.7716987179487,772.610781811869,21.3419525854378,66,2.3213394747649,37,1.53550609521965,56,0.677047428082113,2.186670634546,-0.489521359095838,0.327637852576462,-0.684495308361765,0.603668301365998,0.00841330042088924,0.342277693416532,30,0.770663441884257,11,0.366867233704766,0.119105005852994,0.975089820778829,0.0979197774519604,0.915497818501917,0.652095184148211,0.304134190934737,0.952258917608722,-0.028477986867582,0.672656498440677,0.746810454312143,-47.149028184773,1,12,0.637767546038653,3.54870049295213e-05,-4.12883095580113,0.889769515456454,0.214871236437932,0.231568836812279,0.0305515206672152,4,8\n",
            "68.8986987179487,354.065404753805,17.1663446588763,34,1.41076480346914,12,3.5123568069283,134,0.396776207736518,0.391441348259653,-0.433065943928756,0.245123265605131,-0.672527446081209,0.596366209338853,-0.0315216036232779,0.339082663016505,58,0.949027876416186,9,0.428997025937022,0.000109707531787864,0.851506460331287,1.17365416096574,0.214076562310528,0.209705952358398,0.228482900053984,0.731588865958594,0.0281832110732435,0.203394570359593,0.0523753827880552,-103.559705800157,1,12,0.204042197907422,0.000172190386650407,2.62020985765145,1.32251125760268,0.268075465211202,0.153470419585831,0,3,12\n",
            "67.9277564102564,972.603663346733,52.9546119922451,141,2.90333615230956,131,4.14189839483115,125,0.853866796051072,2.18918769377603,-0.0839302466200159,0.0926306645590518,-0.52544023281588,0.370262782991694,-0.010081174917954,0.71711510583483,31,0.698693098843229,11,0.917283840642122,0.000100001377192751,0.997428334361024,0.467267776988503,0.419709548573525,0.784249433161125,0.0474676933315618,0.495128178635405,-0.0642399597967557,0.683915296888875,0.274663415148857,-17.9201066910306,1,12,0.676036486413646,6.03673577273059e-05,4.20145617863737,3.30562499290139,0.682077672303191,0.787263599551518,0.0415787997147889,2,6\n",
            "head of the catch22 features\n",
            "sample_features.csv\n",
            "DN_HistogramMode_5,DN_HistogramMode_10,CO_f1ecac,CO_FirstMin_ac,CO_HistogramAMI_even_2_5,CO_trev_1_num,MD_hrv_classic_pnn40,SB_BinaryStats_mean_longstretch1,SB_TransitionMatrix_3ac_sumdiagcov,PD_PeriodicityWang_th0_01,CO_Embed2_Dist_tau_d_expfit_meandiff,IN_AutoMutualInfoStats_40_gaussian_fmmi,FC_LocalSimple_mean1_tauresrat,DN_OutlierInclude_p_001_mdrmd,DN_OutlierInclude_n_001_mdrmd,SP_Summaries_welch_rect_area_5_1,SB_BinaryStats_diff_longstretch0,SB_MotifThree_quantile_hh,SC_FluctAnal_2_rsrangefit_50_1_logi_prop_r1,SC_FluctAnal_2_dfa_50_1_2_logi_prop_r1,SP_Summaries_welch_rect_centroid,FC_LocalSimple_mean3_stderr\n",
            "-0.922043763754861,-0.576248683034993,5,15,0.315664751812052,-0.10536831576551,0.935483870967742,19,0.0115740740740741,44,0.147307635300968,11,0.0833333333333333,-0.467948717948718,-0.153846153846154,0.710854613926757,6,1.87169409529269,0.725,0.8,0.196349540849375,0.696265012352172\n",
            "-0.61295776629442,-0.843315670994809,7,10,0.271937269772718,0.00916674396990751,0.909677419354839,17,0.0137741046831956,42,0.163339260691723,9,0.0769230769230769,-0.307692307692308,0.455128205128205,0.749104475100392,5,1.81070352550543,0.8,0.25,0.147262155637031,0.657925671941043\n",
            "-0.167941838208256,-0.450649273092616,2,6,0.132706910533565,-0.00144520190911497,0.961290322580645,8,0.0072840790842872,25,0.0878837356097735,4,0.2,0.262820512820513,0.211538461538461,0.511183134323912,5,2.1735921600141,0.85,0.7,0.564504929941953,0.94542958313992\n",
            "-0.545184775634607,-0.273351630872469,5,16,0.461434673106742,0.169470868256624,0.825806451612903,27,0.0185185185185185,0,0.328443708359191,11,0.0833333333333333,0.871794871794872,-0.743589743589744,0.843873114604168,6,1.80068917684451,0.325,0.85,0.171805848243203,0.562350705644476\n"
          ],
          "name": "stdout"
        }
      ]
    }
  ]
}