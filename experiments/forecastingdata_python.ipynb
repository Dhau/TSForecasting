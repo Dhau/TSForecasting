{
  "nbformat": 4,
  "nbformat_minor": 0,
  "metadata": {
    "colab": {
      "name": "forecastingdata python",
      "provenance": [],
      "authorship_tag": "ABX9TyOp6V9nxJMwY7BTKgQenTTV",
      "include_colab_link": true
    },
    "kernelspec": {
      "name": "python3",
      "display_name": "Python 3"
    },
    "language_info": {
      "name": "python"
    }
  },
  "cells": [
    {
      "cell_type": "markdown",
      "metadata": {
        "id": "view-in-github",
        "colab_type": "text"
      },
      "source": [
        "<a href=\"https://colab.research.google.com/github/pmontman/TSForecasting/blob/master/experiments/forecastingdata_python.ipynb\" target=\"_parent\"><img src=\"https://colab.research.google.com/assets/colab-badge.svg\" alt=\"Open In Colab\"/></a>"
      ]
    },
    {
      "cell_type": "markdown",
      "metadata": {
        "id": "R4AUfZ_qqYcQ"
      },
      "source": [
        "## Notebook for accessing Forecastingdata feature extraction tools using python\n",
        "\n",
        "The feature calculation and other utilities are implemented in R, but we can access them *transparently* from python using the awesome rpy2 package.\n",
        "This notebook shows an example for it.\n",
        "\n",
        "\n",
        "It has two parts. Part 1 is the preparation of the environment so everything\n",
        "runs directly on python. Part2 is an example of how to use the tools directly from python."
      ]
    },
    {
      "cell_type": "markdown",
      "metadata": {
        "id": "KnPXANAz-H1X"
      },
      "source": [
        "## Part 1) Preparation of the environment"
      ]
    },
    {
      "cell_type": "markdown",
      "metadata": {
        "id": "WW8eLpvc6mRW"
      },
      "source": [
        "We load the R extension for jupyter, which interacts nicely with python"
      ]
    },
    {
      "cell_type": "code",
      "metadata": {
        "id": "PApAXyc6r6SV",
        "outputId": "946c979c-12bf-4192-d6e3-ac80a1745e59",
        "colab": {
          "base_uri": "https://localhost:8080/"
        }
      },
      "source": [
        "#@title\n",
        "%load_ext rpy2.ipython"
      ],
      "execution_count": 3,
      "outputs": [
        {
          "output_type": "stream",
          "text": [
            "The rpy2.ipython extension is already loaded. To reload it, use:\n",
            "  %reload_ext rpy2.ipython\n"
          ],
          "name": "stdout"
        }
      ]
    },
    {
      "cell_type": "markdown",
      "metadata": {
        "id": "9vSYen5A6wAl"
      },
      "source": [
        "Clone the repository, for reproducibility. No need to clone everytime if you have already have the folder!."
      ]
    },
    {
      "cell_type": "code",
      "metadata": {
        "colab": {
          "base_uri": "https://localhost:8080/"
        },
        "id": "0cFcT8wkqXke",
        "outputId": "b6b19ec7-4ce6-40d8-ae8a-164d0757257e"
      },
      "source": [
        "!git clone https://github.com/pmontman/TSForecasting"
      ],
      "execution_count": 5,
      "outputs": [
        {
          "output_type": "stream",
          "text": [
            "fatal: destination path 'TSForecasting' already exists and is not an empty directory.\n"
          ],
          "name": "stdout"
        }
      ]
    },
    {
      "cell_type": "code",
      "metadata": {
        "id": "czSpWArNF3JO",
        "outputId": "c22ed519-6cf7-4e66-a080-f3966b10a866",
        "colab": {
          "base_uri": "https://localhost:8080/"
        }
      },
      "source": [
        "%cd TSForecasting/\n",
        "!git pull\n",
        "%cd .."
      ],
      "execution_count": 25,
      "outputs": [
        {
          "output_type": "stream",
          "text": [
            "/content/TSForecasting\n",
            "remote: Enumerating objects: 17, done.\u001b[K\n",
            "remote: Counting objects: 100% (17/17), done.\u001b[K\n",
            "remote: Compressing objects: 100% (12/12), done.\u001b[K\n",
            "remote: Total 12 (delta 7), reused 0 (delta 0), pack-reused 0\u001b[K\n",
            "Unpacking objects: 100% (12/12), done.\n",
            "From https://github.com/pmontman/TSForecasting\n",
            "   37a5613..ee0510a  master     -> origin/master\n",
            "Updating 37a5613..ee0510a\n",
            "Fast-forward\n",
            " experiments/fixed_horizon.R | 22 \u001b[32m+++++++++++++\u001b[m\u001b[31m---------\u001b[m\n",
            " models/global_models.R      |  5 \u001b[32m++++\u001b[m\u001b[31m-\u001b[m\n",
            " 2 files changed, 17 insertions(+), 10 deletions(-)\n",
            "/content\n"
          ],
          "name": "stdout"
        }
      ]
    },
    {
      "cell_type": "markdown",
      "metadata": {
        "id": "NBgeddI662U1"
      },
      "source": [
        "We now prepare the R environment for processing: installing and loading the required packages"
      ]
    },
    {
      "cell_type": "code",
      "metadata": {
        "colab": {
          "base_uri": "https://localhost:8080/"
        },
        "id": "-_ONfdCbrnvR",
        "outputId": "51ea7dd1-75ef-48ca-e553-5d58bc4b4513"
      },
      "source": [
        "%%R\n",
        "devtools::install_github(\"hendersontrent/catch22\")\n",
        "install.packages(\"tsibble\")\n",
        "install.packages(\"forecast\")\n",
        "install.packages(\"tsfeatures\")\n",
        "install.packages(\"smooth\")\n",
        "library(\"Rcatch22\")"
      ],
      "execution_count": 6,
      "outputs": [
        {
          "output_type": "stream",
          "text": [
            "R[write to console]: Skipping install of 'Rcatch22' from a github remote, the SHA1 (a93d1a9b) has not changed since last install.\n",
            "  Use `force = TRUE` to force installation\n",
            "\n",
            "R[write to console]: Installing package into ‘/usr/local/lib/R/site-library’\n",
            "(as ‘lib’ is unspecified)\n",
            "\n",
            "R[write to console]: trying URL 'https://cran.rstudio.com/src/contrib/tsibble_1.0.1.tar.gz'\n",
            "\n",
            "R[write to console]: Content type 'application/x-gzip'\n",
            "R[write to console]:  length 1517998 bytes (1.4 MB)\n",
            "\n",
            "R[write to console]: =\n",
            "R[write to console]: =\n",
            "R[write to console]: =\n",
            "R[write to console]: =\n",
            "R[write to console]: =\n",
            "R[write to console]: =\n",
            "R[write to console]: =\n",
            "R[write to console]: =\n",
            "R[write to console]: =\n",
            "R[write to console]: =\n",
            "R[write to console]: =\n",
            "R[write to console]: =\n",
            "R[write to console]: =\n",
            "R[write to console]: =\n",
            "R[write to console]: =\n",
            "R[write to console]: =\n",
            "R[write to console]: =\n",
            "R[write to console]: =\n",
            "R[write to console]: =\n",
            "R[write to console]: =\n",
            "R[write to console]: =\n",
            "R[write to console]: =\n",
            "R[write to console]: =\n",
            "R[write to console]: =\n",
            "R[write to console]: =\n",
            "R[write to console]: =\n",
            "R[write to console]: =\n",
            "R[write to console]: =\n",
            "R[write to console]: =\n",
            "R[write to console]: =\n",
            "R[write to console]: =\n",
            "R[write to console]: =\n",
            "R[write to console]: =\n",
            "R[write to console]: =\n",
            "R[write to console]: =\n",
            "R[write to console]: =\n",
            "R[write to console]: =\n",
            "R[write to console]: =\n",
            "R[write to console]: =\n",
            "R[write to console]: =\n",
            "R[write to console]: =\n",
            "R[write to console]: =\n",
            "R[write to console]: =\n",
            "R[write to console]: =\n",
            "R[write to console]: =\n",
            "R[write to console]: =\n",
            "R[write to console]: =\n",
            "R[write to console]: =\n",
            "R[write to console]: =\n",
            "R[write to console]: =\n",
            "R[write to console]: \n",
            "\n",
            "R[write to console]: downloaded 1.4 MB\n",
            "\n",
            "\n",
            "R[write to console]: \n",
            "\n",
            "R[write to console]: \n",
            "R[write to console]: The downloaded source packages are in\n",
            "\t‘/tmp/RtmpDIxWON/downloaded_packages’\n",
            "R[write to console]: \n",
            "R[write to console]: \n",
            "\n",
            "R[write to console]: Installing package into ‘/usr/local/lib/R/site-library’\n",
            "(as ‘lib’ is unspecified)\n",
            "\n",
            "R[write to console]: trying URL 'https://cran.rstudio.com/src/contrib/forecast_8.15.tar.gz'\n",
            "\n",
            "R[write to console]: Content type 'application/x-gzip'\n",
            "R[write to console]:  length 584703 bytes (570 KB)\n",
            "\n",
            "R[write to console]: =\n",
            "R[write to console]: =\n",
            "R[write to console]: =\n",
            "R[write to console]: =\n",
            "R[write to console]: =\n",
            "R[write to console]: =\n",
            "R[write to console]: =\n",
            "R[write to console]: =\n",
            "R[write to console]: =\n",
            "R[write to console]: =\n",
            "R[write to console]: =\n",
            "R[write to console]: =\n",
            "R[write to console]: =\n",
            "R[write to console]: =\n",
            "R[write to console]: =\n",
            "R[write to console]: =\n",
            "R[write to console]: =\n",
            "R[write to console]: =\n",
            "R[write to console]: =\n",
            "R[write to console]: =\n",
            "R[write to console]: =\n",
            "R[write to console]: =\n",
            "R[write to console]: =\n",
            "R[write to console]: =\n",
            "R[write to console]: =\n",
            "R[write to console]: =\n",
            "R[write to console]: =\n",
            "R[write to console]: =\n",
            "R[write to console]: =\n",
            "R[write to console]: =\n",
            "R[write to console]: =\n",
            "R[write to console]: =\n",
            "R[write to console]: =\n",
            "R[write to console]: =\n",
            "R[write to console]: =\n",
            "R[write to console]: =\n",
            "R[write to console]: =\n",
            "R[write to console]: =\n",
            "R[write to console]: =\n",
            "R[write to console]: =\n",
            "R[write to console]: =\n",
            "R[write to console]: =\n",
            "R[write to console]: =\n",
            "R[write to console]: =\n",
            "R[write to console]: =\n",
            "R[write to console]: =\n",
            "R[write to console]: =\n",
            "R[write to console]: =\n",
            "R[write to console]: =\n",
            "R[write to console]: =\n",
            "R[write to console]: \n",
            "\n",
            "R[write to console]: downloaded 570 KB\n",
            "\n",
            "\n",
            "R[write to console]: \n",
            "\n",
            "R[write to console]: \n",
            "R[write to console]: The downloaded source packages are in\n",
            "\t‘/tmp/RtmpDIxWON/downloaded_packages’\n",
            "R[write to console]: \n",
            "R[write to console]: \n",
            "\n",
            "R[write to console]: Installing package into ‘/usr/local/lib/R/site-library’\n",
            "(as ‘lib’ is unspecified)\n",
            "\n",
            "R[write to console]: trying URL 'https://cran.rstudio.com/src/contrib/tsfeatures_1.0.2.tar.gz'\n",
            "\n",
            "R[write to console]: Content type 'application/x-gzip'\n",
            "R[write to console]:  length 146035 bytes (142 KB)\n",
            "\n",
            "R[write to console]: =\n",
            "R[write to console]: =\n",
            "R[write to console]: =\n",
            "R[write to console]: =\n",
            "R[write to console]: =\n",
            "R[write to console]: =\n",
            "R[write to console]: =\n",
            "R[write to console]: =\n",
            "R[write to console]: =\n",
            "R[write to console]: =\n",
            "R[write to console]: =\n",
            "R[write to console]: =\n",
            "R[write to console]: =\n",
            "R[write to console]: =\n",
            "R[write to console]: =\n",
            "R[write to console]: =\n",
            "R[write to console]: =\n",
            "R[write to console]: =\n",
            "R[write to console]: =\n",
            "R[write to console]: =\n",
            "R[write to console]: =\n",
            "R[write to console]: =\n",
            "R[write to console]: =\n",
            "R[write to console]: =\n",
            "R[write to console]: =\n",
            "R[write to console]: =\n",
            "R[write to console]: =\n",
            "R[write to console]: =\n",
            "R[write to console]: =\n",
            "R[write to console]: =\n",
            "R[write to console]: =\n",
            "R[write to console]: =\n",
            "R[write to console]: =\n",
            "R[write to console]: =\n",
            "R[write to console]: =\n",
            "R[write to console]: =\n",
            "R[write to console]: =\n",
            "R[write to console]: =\n",
            "R[write to console]: =\n",
            "R[write to console]: =\n",
            "R[write to console]: =\n",
            "R[write to console]: =\n",
            "R[write to console]: =\n",
            "R[write to console]: =\n",
            "R[write to console]: =\n",
            "R[write to console]: =\n",
            "R[write to console]: =\n",
            "R[write to console]: =\n",
            "R[write to console]: =\n",
            "R[write to console]: =\n",
            "R[write to console]: \n",
            "\n",
            "R[write to console]: downloaded 142 KB\n",
            "\n",
            "\n",
            "R[write to console]: \n",
            "\n",
            "R[write to console]: \n",
            "R[write to console]: The downloaded source packages are in\n",
            "\t‘/tmp/RtmpDIxWON/downloaded_packages’\n",
            "R[write to console]: \n",
            "R[write to console]: \n",
            "\n",
            "R[write to console]: Installing package into ‘/usr/local/lib/R/site-library’\n",
            "(as ‘lib’ is unspecified)\n",
            "\n",
            "R[write to console]: trying URL 'https://cran.rstudio.com/src/contrib/smooth_3.1.2.tar.gz'\n",
            "\n",
            "R[write to console]: Content type 'application/x-gzip'\n",
            "R[write to console]:  length 3641502 bytes (3.5 MB)\n",
            "\n",
            "R[write to console]: =\n",
            "R[write to console]: =\n",
            "R[write to console]: =\n",
            "R[write to console]: =\n",
            "R[write to console]: =\n",
            "R[write to console]: =\n",
            "R[write to console]: =\n",
            "R[write to console]: =\n",
            "R[write to console]: =\n",
            "R[write to console]: =\n",
            "R[write to console]: =\n",
            "R[write to console]: =\n",
            "R[write to console]: =\n",
            "R[write to console]: =\n",
            "R[write to console]: =\n",
            "R[write to console]: =\n",
            "R[write to console]: =\n",
            "R[write to console]: =\n",
            "R[write to console]: =\n",
            "R[write to console]: =\n",
            "R[write to console]: =\n",
            "R[write to console]: =\n",
            "R[write to console]: =\n",
            "R[write to console]: =\n",
            "R[write to console]: =\n",
            "R[write to console]: =\n",
            "R[write to console]: =\n",
            "R[write to console]: =\n",
            "R[write to console]: =\n",
            "R[write to console]: =\n",
            "R[write to console]: =\n",
            "R[write to console]: =\n",
            "R[write to console]: =\n",
            "R[write to console]: =\n",
            "R[write to console]: =\n",
            "R[write to console]: =\n",
            "R[write to console]: =\n",
            "R[write to console]: =\n",
            "R[write to console]: =\n",
            "R[write to console]: =\n",
            "R[write to console]: =\n",
            "R[write to console]: =\n",
            "R[write to console]: =\n",
            "R[write to console]: =\n",
            "R[write to console]: =\n",
            "R[write to console]: =\n",
            "R[write to console]: =\n",
            "R[write to console]: =\n",
            "R[write to console]: =\n",
            "R[write to console]: =\n",
            "R[write to console]: \n",
            "\n",
            "R[write to console]: downloaded 3.5 MB\n",
            "\n",
            "\n",
            "R[write to console]: \n",
            "\n",
            "R[write to console]: \n",
            "R[write to console]: The downloaded source packages are in\n",
            "\t‘/tmp/RtmpDIxWON/downloaded_packages’\n",
            "R[write to console]: \n",
            "R[write to console]: \n",
            "\n"
          ],
          "name": "stderr"
        }
      ]
    },
    {
      "cell_type": "markdown",
      "metadata": {
        "id": "3EQg7sgb2RDP"
      },
      "source": [
        "Install catboost R package for the tree-based forecasts"
      ]
    },
    {
      "cell_type": "code",
      "metadata": {
        "id": "TI6nV8XQ0coC",
        "outputId": "8476df5d-5e3f-4be3-ab96-afee87fb1c09",
        "colab": {
          "base_uri": "https://localhost:8080/"
        }
      },
      "source": [
        "%%R\n",
        "install.packages('glmnet')"
      ],
      "execution_count": 7,
      "outputs": [
        {
          "output_type": "stream",
          "text": [
            "R[write to console]: Installing package into ‘/usr/local/lib/R/site-library’\n",
            "(as ‘lib’ is unspecified)\n",
            "\n",
            "R[write to console]: trying URL 'https://cran.rstudio.com/src/contrib/glmnet_4.1-2.tar.gz'\n",
            "\n",
            "R[write to console]: Content type 'application/x-gzip'\n",
            "R[write to console]:  length 2184440 bytes (2.1 MB)\n",
            "\n",
            "R[write to console]: =\n",
            "R[write to console]: =\n",
            "R[write to console]: =\n",
            "R[write to console]: =\n",
            "R[write to console]: =\n",
            "R[write to console]: =\n",
            "R[write to console]: =\n",
            "R[write to console]: =\n",
            "R[write to console]: =\n",
            "R[write to console]: =\n",
            "R[write to console]: =\n",
            "R[write to console]: =\n",
            "R[write to console]: =\n",
            "R[write to console]: =\n",
            "R[write to console]: =\n",
            "R[write to console]: =\n",
            "R[write to console]: =\n",
            "R[write to console]: =\n",
            "R[write to console]: =\n",
            "R[write to console]: =\n",
            "R[write to console]: =\n",
            "R[write to console]: =\n",
            "R[write to console]: =\n",
            "R[write to console]: =\n",
            "R[write to console]: =\n",
            "R[write to console]: =\n",
            "R[write to console]: =\n",
            "R[write to console]: =\n",
            "R[write to console]: =\n",
            "R[write to console]: =\n",
            "R[write to console]: =\n",
            "R[write to console]: =\n",
            "R[write to console]: =\n",
            "R[write to console]: =\n",
            "R[write to console]: =\n",
            "R[write to console]: =\n",
            "R[write to console]: =\n",
            "R[write to console]: =\n",
            "R[write to console]: =\n",
            "R[write to console]: =\n",
            "R[write to console]: =\n",
            "R[write to console]: =\n",
            "R[write to console]: =\n",
            "R[write to console]: =\n",
            "R[write to console]: =\n",
            "R[write to console]: =\n",
            "R[write to console]: =\n",
            "R[write to console]: =\n",
            "R[write to console]: =\n",
            "R[write to console]: =\n",
            "R[write to console]: \n",
            "\n",
            "R[write to console]: downloaded 2.1 MB\n",
            "\n",
            "\n",
            "R[write to console]: \n",
            "\n",
            "R[write to console]: \n",
            "R[write to console]: The downloaded source packages are in\n",
            "\t‘/tmp/RtmpDIxWON/downloaded_packages’\n",
            "R[write to console]: \n",
            "R[write to console]: \n",
            "\n"
          ],
          "name": "stderr"
        }
      ]
    },
    {
      "cell_type": "code",
      "metadata": {
        "id": "NaOu2KJgmac-",
        "outputId": "522561e4-2ea6-4987-ce79-e72adf645d3b",
        "colab": {
          "base_uri": "https://localhost:8080/"
        }
      },
      "source": [
        "%%R\n",
        "\n",
        "source(\"TSForecasting/experiments/feature_experiments.R\")"
      ],
      "execution_count": 8,
      "outputs": [
        {
          "output_type": "stream",
          "text": [
            "R[write to console]: ── Attaching packages ─────────────────────────────────────── tidyverse 1.3.1 ──\n",
            "\n",
            "R[write to console]: ✔ ggplot2 3.3.5     ✔ purrr   0.3.4\n",
            "✔ tibble  3.1.3     ✔ dplyr   1.0.7\n",
            "✔ tidyr   1.1.3     ✔ stringr 1.4.0\n",
            "✔ readr   2.0.1     ✔ forcats 0.5.1\n",
            "\n",
            "R[write to console]: ── Conflicts ────────────────────────────────────────── tidyverse_conflicts() ──\n",
            "✖ dplyr::filter() masks stats::filter()\n",
            "✖ dplyr::lag()    masks stats::lag()\n",
            "\n"
          ],
          "name": "stderr"
        }
      ]
    },
    {
      "cell_type": "markdown",
      "metadata": {
        "id": "jSe_MTIUCsPv"
      },
      "source": [
        "The fixed horizon we need to try line by line to skip errors"
      ]
    },
    {
      "cell_type": "code",
      "metadata": {
        "id": "vwCaUyXsyeEw",
        "outputId": "da6d2799-e0ac-4ce1-996a-5fa14d8dfed9",
        "colab": {
          "base_uri": "https://localhost:8080/"
        }
      },
      "source": [
        "%%R\n",
        "version\n",
        "#source(\"TSForecasting/experiments/fixed_horizon.R\")\n",
        "ll <- parse(file = \"TSForecasting/experiments/fixed_horizon.R\")\n",
        "\n",
        "for (i in seq_along(ll)) {\n",
        "    tryCatch(eval(ll[[i]]), \n",
        "             error = function(e) message(\"Oops!  \", as.character(e)))\n",
        "}"
      ],
      "execution_count": 13,
      "outputs": [
        {
          "output_type": "stream",
          "text": [
            "R[write to console]: Oops!  Error: package or namespace load failed for ‘catboost’ in dyn.load(file, DLLpath = DLLpath, ...):\n",
            " unable to load shared object '/usr/local/lib/R/site-library/catboost/libs/libcatboostr.so':\n",
            "  /usr/local/lib/R/site-library/catboost/libs/libcatboostr.so: undefined symbol: R_DimSymbol\n",
            "\n",
            "\n"
          ],
          "name": "stderr"
        },
        {
          "output_type": "stream",
          "text": [
            "[1] \"Started loading sample\"\n",
            "[1] \"started Forecasting\"\n",
            "[1] 1\n"
          ],
          "name": "stdout"
        },
        {
          "output_type": "stream",
          "text": [
            "R[write to console]: Oops!  Error in eval(expr, p): object 'xreg' not found\n",
            "\n",
            "\n"
          ],
          "name": "stderr"
        },
        {
          "output_type": "stream",
          "text": [
            "[1] \"Started loading sample\"\n",
            "[1] \"started Forecasting\"\n"
          ],
          "name": "stdout"
        },
        {
          "output_type": "stream",
          "text": [
            "R[write to console]: Oops!  Error in start_forecasting(train_series_list, lag, forecast_horizon, method): could not find function \"start_forecasting\"\n",
            "\n",
            "\n"
          ],
          "name": "stderr"
        },
        {
          "output_type": "stream",
          "text": [
            "[1] \"Started loading cif_2016\"\n"
          ],
          "name": "stdout"
        },
        {
          "output_type": "stream",
          "text": [
            "R[write to console]: Oops!  Error in file(file, \"r\"): cannot open the connection\n",
            "\n",
            "\n"
          ],
          "name": "stderr"
        },
        {
          "output_type": "stream",
          "text": [
            "[1] \"Started loading nn5_daily\"\n"
          ],
          "name": "stdout"
        },
        {
          "output_type": "stream",
          "text": [
            "R[write to console]: Oops!  Error in file(file, \"r\"): cannot open the connection\n",
            "\n",
            "\n"
          ],
          "name": "stderr"
        },
        {
          "output_type": "stream",
          "text": [
            "[1] \"Started loading tourism_yearly\"\n"
          ],
          "name": "stdout"
        },
        {
          "output_type": "stream",
          "text": [
            "R[write to console]: Oops!  Error in file(file, \"r\"): cannot open the connection\n",
            "\n",
            "\n"
          ],
          "name": "stderr"
        },
        {
          "output_type": "stream",
          "text": [
            "[1] \"Started loading tourism_quarterly\"\n"
          ],
          "name": "stdout"
        },
        {
          "output_type": "stream",
          "text": [
            "R[write to console]: Oops!  Error in file(file, \"r\"): cannot open the connection\n",
            "\n",
            "\n"
          ],
          "name": "stderr"
        },
        {
          "output_type": "stream",
          "text": [
            "[1] \"Started loading tourism_monthly\"\n"
          ],
          "name": "stdout"
        },
        {
          "output_type": "stream",
          "text": [
            "R[write to console]: Oops!  Error in file(file, \"r\"): cannot open the connection\n",
            "\n",
            "\n"
          ],
          "name": "stderr"
        },
        {
          "output_type": "stream",
          "text": [
            "[1] \"Started loading m1_yearly\"\n"
          ],
          "name": "stdout"
        },
        {
          "output_type": "stream",
          "text": [
            "R[write to console]: Oops!  Error in file(file, \"r\"): cannot open the connection\n",
            "\n",
            "\n"
          ],
          "name": "stderr"
        },
        {
          "output_type": "stream",
          "text": [
            "[1] \"Started loading m1_quarterly\"\n"
          ],
          "name": "stdout"
        },
        {
          "output_type": "stream",
          "text": [
            "R[write to console]: Oops!  Error in file(file, \"r\"): cannot open the connection\n",
            "\n",
            "\n"
          ],
          "name": "stderr"
        },
        {
          "output_type": "stream",
          "text": [
            "[1] \"Started loading m1_monthly\"\n"
          ],
          "name": "stdout"
        },
        {
          "output_type": "stream",
          "text": [
            "R[write to console]: Oops!  Error in file(file, \"r\"): cannot open the connection\n",
            "\n",
            "\n"
          ],
          "name": "stderr"
        },
        {
          "output_type": "stream",
          "text": [
            "[1] \"Started loading m3_yearly\"\n"
          ],
          "name": "stdout"
        },
        {
          "output_type": "stream",
          "text": [
            "R[write to console]: Oops!  Error in file(file, \"r\"): cannot open the connection\n",
            "\n",
            "\n"
          ],
          "name": "stderr"
        },
        {
          "output_type": "stream",
          "text": [
            "[1] \"Started loading m3_quarterly\"\n"
          ],
          "name": "stdout"
        },
        {
          "output_type": "stream",
          "text": [
            "R[write to console]: Oops!  Error in file(file, \"r\"): cannot open the connection\n",
            "\n",
            "\n"
          ],
          "name": "stderr"
        },
        {
          "output_type": "stream",
          "text": [
            "[1] \"Started loading m3_monthly\"\n"
          ],
          "name": "stdout"
        },
        {
          "output_type": "stream",
          "text": [
            "R[write to console]: Oops!  Error in file(file, \"r\"): cannot open the connection\n",
            "\n",
            "\n"
          ],
          "name": "stderr"
        },
        {
          "output_type": "stream",
          "text": [
            "[1] \"Started loading m3_other\"\n"
          ],
          "name": "stdout"
        },
        {
          "output_type": "stream",
          "text": [
            "R[write to console]: Oops!  Error in file(file, \"r\"): cannot open the connection\n",
            "\n",
            "\n"
          ],
          "name": "stderr"
        },
        {
          "output_type": "stream",
          "text": [
            "[1] \"Started loading m4_yearly\"\n"
          ],
          "name": "stdout"
        },
        {
          "output_type": "stream",
          "text": [
            "R[write to console]: Oops!  Error in file(file, \"r\"): cannot open the connection\n",
            "\n",
            "\n"
          ],
          "name": "stderr"
        },
        {
          "output_type": "stream",
          "text": [
            "[1] \"Started loading m4_quarterly\"\n"
          ],
          "name": "stdout"
        },
        {
          "output_type": "stream",
          "text": [
            "R[write to console]: Oops!  Error in file(file, \"r\"): cannot open the connection\n",
            "\n",
            "\n"
          ],
          "name": "stderr"
        },
        {
          "output_type": "stream",
          "text": [
            "[1] \"Started loading m4_monthly\"\n"
          ],
          "name": "stdout"
        },
        {
          "output_type": "stream",
          "text": [
            "R[write to console]: Oops!  Error in file(file, \"r\"): cannot open the connection\n",
            "\n",
            "\n"
          ],
          "name": "stderr"
        },
        {
          "output_type": "stream",
          "text": [
            "[1] \"Started loading m4_weekly\"\n"
          ],
          "name": "stdout"
        },
        {
          "output_type": "stream",
          "text": [
            "R[write to console]: Oops!  Error in file(file, \"r\"): cannot open the connection\n",
            "\n",
            "\n"
          ],
          "name": "stderr"
        },
        {
          "output_type": "stream",
          "text": [
            "[1] \"Started loading m4_daily\"\n"
          ],
          "name": "stdout"
        },
        {
          "output_type": "stream",
          "text": [
            "R[write to console]: Oops!  Error in file(file, \"r\"): cannot open the connection\n",
            "\n",
            "\n"
          ],
          "name": "stderr"
        },
        {
          "output_type": "stream",
          "text": [
            "[1] \"Started loading m4_hourly\"\n"
          ],
          "name": "stdout"
        },
        {
          "output_type": "stream",
          "text": [
            "R[write to console]: Oops!  Error in file(file, \"r\"): cannot open the connection\n",
            "\n",
            "\n"
          ],
          "name": "stderr"
        },
        {
          "output_type": "stream",
          "text": [
            "[1] \"Started loading kaggle_web_traffic_daily\"\n"
          ],
          "name": "stdout"
        },
        {
          "output_type": "stream",
          "text": [
            "R[write to console]: Oops!  Error in file(file, \"r\"): cannot open the connection\n",
            "\n",
            "\n"
          ],
          "name": "stderr"
        },
        {
          "output_type": "stream",
          "text": [
            "[1] \"Started loading cif_2016\"\n"
          ],
          "name": "stdout"
        },
        {
          "output_type": "stream",
          "text": [
            "R[write to console]: Oops!  Error in file(file, \"r\"): cannot open the connection\n",
            "\n",
            "\n"
          ],
          "name": "stderr"
        },
        {
          "output_type": "stream",
          "text": [
            "[1] \"Started loading nn5_daily\"\n"
          ],
          "name": "stdout"
        },
        {
          "output_type": "stream",
          "text": [
            "R[write to console]: Oops!  Error in file(file, \"r\"): cannot open the connection\n",
            "\n",
            "\n"
          ],
          "name": "stderr"
        },
        {
          "output_type": "stream",
          "text": [
            "[1] \"Started loading tourism_yearly\"\n"
          ],
          "name": "stdout"
        },
        {
          "output_type": "stream",
          "text": [
            "R[write to console]: Oops!  Error in file(file, \"r\"): cannot open the connection\n",
            "\n",
            "\n"
          ],
          "name": "stderr"
        },
        {
          "output_type": "stream",
          "text": [
            "[1] \"Started loading tourism_quarterly\"\n"
          ],
          "name": "stdout"
        },
        {
          "output_type": "stream",
          "text": [
            "R[write to console]: Oops!  Error in file(file, \"r\"): cannot open the connection\n",
            "\n",
            "\n"
          ],
          "name": "stderr"
        },
        {
          "output_type": "stream",
          "text": [
            "[1] \"Started loading tourism_monthly\"\n"
          ],
          "name": "stdout"
        },
        {
          "output_type": "stream",
          "text": [
            "R[write to console]: Oops!  Error in file(file, \"r\"): cannot open the connection\n",
            "\n",
            "\n"
          ],
          "name": "stderr"
        },
        {
          "output_type": "stream",
          "text": [
            "[1] \"Started loading m1_yearly\"\n"
          ],
          "name": "stdout"
        },
        {
          "output_type": "stream",
          "text": [
            "R[write to console]: Oops!  Error in file(file, \"r\"): cannot open the connection\n",
            "\n",
            "\n"
          ],
          "name": "stderr"
        },
        {
          "output_type": "stream",
          "text": [
            "[1] \"Started loading m1_quarterly\"\n"
          ],
          "name": "stdout"
        },
        {
          "output_type": "stream",
          "text": [
            "R[write to console]: Oops!  Error in file(file, \"r\"): cannot open the connection\n",
            "\n",
            "\n"
          ],
          "name": "stderr"
        },
        {
          "output_type": "stream",
          "text": [
            "[1] \"Started loading m1_monthly\"\n"
          ],
          "name": "stdout"
        },
        {
          "output_type": "stream",
          "text": [
            "R[write to console]: Oops!  Error in file(file, \"r\"): cannot open the connection\n",
            "\n",
            "\n"
          ],
          "name": "stderr"
        },
        {
          "output_type": "stream",
          "text": [
            "[1] \"Started loading m3_yearly\"\n"
          ],
          "name": "stdout"
        },
        {
          "output_type": "stream",
          "text": [
            "R[write to console]: Oops!  Error in file(file, \"r\"): cannot open the connection\n",
            "\n",
            "\n"
          ],
          "name": "stderr"
        },
        {
          "output_type": "stream",
          "text": [
            "[1] \"Started loading m3_quarterly\"\n"
          ],
          "name": "stdout"
        },
        {
          "output_type": "stream",
          "text": [
            "R[write to console]: Oops!  Error in file(file, \"r\"): cannot open the connection\n",
            "\n",
            "\n"
          ],
          "name": "stderr"
        },
        {
          "output_type": "stream",
          "text": [
            "[1] \"Started loading m3_monthly\"\n"
          ],
          "name": "stdout"
        },
        {
          "output_type": "stream",
          "text": [
            "R[write to console]: Oops!  Error in file(file, \"r\"): cannot open the connection\n",
            "\n",
            "\n"
          ],
          "name": "stderr"
        },
        {
          "output_type": "stream",
          "text": [
            "[1] \"Started loading m3_other\"\n"
          ],
          "name": "stdout"
        },
        {
          "output_type": "stream",
          "text": [
            "R[write to console]: Oops!  Error in file(file, \"r\"): cannot open the connection\n",
            "\n",
            "\n"
          ],
          "name": "stderr"
        },
        {
          "output_type": "stream",
          "text": [
            "[1] \"Started loading m4_yearly\"\n"
          ],
          "name": "stdout"
        },
        {
          "output_type": "stream",
          "text": [
            "R[write to console]: Oops!  Error in file(file, \"r\"): cannot open the connection\n",
            "\n",
            "\n"
          ],
          "name": "stderr"
        },
        {
          "output_type": "stream",
          "text": [
            "[1] \"Started loading m4_quarterly\"\n"
          ],
          "name": "stdout"
        },
        {
          "output_type": "stream",
          "text": [
            "R[write to console]: Oops!  Error in file(file, \"r\"): cannot open the connection\n",
            "\n",
            "\n"
          ],
          "name": "stderr"
        },
        {
          "output_type": "stream",
          "text": [
            "[1] \"Started loading m4_monthly\"\n"
          ],
          "name": "stdout"
        },
        {
          "output_type": "stream",
          "text": [
            "R[write to console]: Oops!  Error in file(file, \"r\"): cannot open the connection\n",
            "\n",
            "\n"
          ],
          "name": "stderr"
        },
        {
          "output_type": "stream",
          "text": [
            "[1] \"Started loading m4_weekly\"\n"
          ],
          "name": "stdout"
        },
        {
          "output_type": "stream",
          "text": [
            "R[write to console]: Oops!  Error in file(file, \"r\"): cannot open the connection\n",
            "\n",
            "\n"
          ],
          "name": "stderr"
        },
        {
          "output_type": "stream",
          "text": [
            "[1] \"Started loading m4_daily\"\n"
          ],
          "name": "stdout"
        },
        {
          "output_type": "stream",
          "text": [
            "R[write to console]: Oops!  Error in file(file, \"r\"): cannot open the connection\n",
            "\n",
            "\n"
          ],
          "name": "stderr"
        },
        {
          "output_type": "stream",
          "text": [
            "[1] \"Started loading m4_hourly\"\n"
          ],
          "name": "stdout"
        },
        {
          "output_type": "stream",
          "text": [
            "R[write to console]: Oops!  Error in file(file, \"r\"): cannot open the connection\n",
            "\n",
            "\n"
          ],
          "name": "stderr"
        },
        {
          "output_type": "stream",
          "text": [
            "[1] \"Started loading cif_2016\"\n"
          ],
          "name": "stdout"
        },
        {
          "output_type": "stream",
          "text": [
            "R[write to console]: Oops!  Error in file(file, \"r\"): cannot open the connection\n",
            "\n",
            "\n"
          ],
          "name": "stderr"
        },
        {
          "output_type": "stream",
          "text": [
            "[1] \"Started loading nn5_daily\"\n"
          ],
          "name": "stdout"
        },
        {
          "output_type": "stream",
          "text": [
            "R[write to console]: Oops!  Error in file(file, \"r\"): cannot open the connection\n",
            "\n",
            "\n"
          ],
          "name": "stderr"
        },
        {
          "output_type": "stream",
          "text": [
            "[1] \"Started loading tourism_yearly\"\n"
          ],
          "name": "stdout"
        },
        {
          "output_type": "stream",
          "text": [
            "R[write to console]: Oops!  Error in file(file, \"r\"): cannot open the connection\n",
            "\n",
            "\n"
          ],
          "name": "stderr"
        },
        {
          "output_type": "stream",
          "text": [
            "[1] \"Started loading tourism_quarterly\"\n"
          ],
          "name": "stdout"
        },
        {
          "output_type": "stream",
          "text": [
            "R[write to console]: Oops!  Error in file(file, \"r\"): cannot open the connection\n",
            "\n",
            "\n"
          ],
          "name": "stderr"
        },
        {
          "output_type": "stream",
          "text": [
            "[1] \"Started loading tourism_monthly\"\n"
          ],
          "name": "stdout"
        },
        {
          "output_type": "stream",
          "text": [
            "R[write to console]: Oops!  Error in file(file, \"r\"): cannot open the connection\n",
            "\n",
            "\n"
          ],
          "name": "stderr"
        },
        {
          "output_type": "stream",
          "text": [
            "[1] \"Started loading m1_yearly\"\n"
          ],
          "name": "stdout"
        },
        {
          "output_type": "stream",
          "text": [
            "R[write to console]: Oops!  Error in file(file, \"r\"): cannot open the connection\n",
            "\n",
            "\n"
          ],
          "name": "stderr"
        },
        {
          "output_type": "stream",
          "text": [
            "[1] \"Started loading m1_quarterly\"\n"
          ],
          "name": "stdout"
        },
        {
          "output_type": "stream",
          "text": [
            "R[write to console]: Oops!  Error in file(file, \"r\"): cannot open the connection\n",
            "\n",
            "\n"
          ],
          "name": "stderr"
        },
        {
          "output_type": "stream",
          "text": [
            "[1] \"Started loading m1_monthly\"\n"
          ],
          "name": "stdout"
        },
        {
          "output_type": "stream",
          "text": [
            "R[write to console]: Oops!  Error in file(file, \"r\"): cannot open the connection\n",
            "\n",
            "\n"
          ],
          "name": "stderr"
        },
        {
          "output_type": "stream",
          "text": [
            "[1] \"Started loading m3_yearly\"\n"
          ],
          "name": "stdout"
        },
        {
          "output_type": "stream",
          "text": [
            "R[write to console]: Oops!  Error in file(file, \"r\"): cannot open the connection\n",
            "\n",
            "\n"
          ],
          "name": "stderr"
        },
        {
          "output_type": "stream",
          "text": [
            "[1] \"Started loading m3_quarterly\"\n"
          ],
          "name": "stdout"
        },
        {
          "output_type": "stream",
          "text": [
            "R[write to console]: Oops!  Error in file(file, \"r\"): cannot open the connection\n",
            "\n",
            "\n"
          ],
          "name": "stderr"
        },
        {
          "output_type": "stream",
          "text": [
            "[1] \"Started loading m3_monthly\"\n"
          ],
          "name": "stdout"
        },
        {
          "output_type": "stream",
          "text": [
            "R[write to console]: Oops!  Error in file(file, \"r\"): cannot open the connection\n",
            "\n",
            "\n"
          ],
          "name": "stderr"
        },
        {
          "output_type": "stream",
          "text": [
            "[1] \"Started loading m3_other\"\n"
          ],
          "name": "stdout"
        },
        {
          "output_type": "stream",
          "text": [
            "R[write to console]: Oops!  Error in file(file, \"r\"): cannot open the connection\n",
            "\n",
            "\n"
          ],
          "name": "stderr"
        },
        {
          "output_type": "stream",
          "text": [
            "[1] \"Started loading m4_yearly\"\n"
          ],
          "name": "stdout"
        },
        {
          "output_type": "stream",
          "text": [
            "R[write to console]: Oops!  Error in file(file, \"r\"): cannot open the connection\n",
            "\n",
            "\n"
          ],
          "name": "stderr"
        },
        {
          "output_type": "stream",
          "text": [
            "[1] \"Started loading m4_quarterly\"\n"
          ],
          "name": "stdout"
        },
        {
          "output_type": "stream",
          "text": [
            "R[write to console]: Oops!  Error in file(file, \"r\"): cannot open the connection\n",
            "\n",
            "\n"
          ],
          "name": "stderr"
        },
        {
          "output_type": "stream",
          "text": [
            "[1] \"Started loading m4_monthly\"\n"
          ],
          "name": "stdout"
        },
        {
          "output_type": "stream",
          "text": [
            "R[write to console]: Oops!  Error in file(file, \"r\"): cannot open the connection\n",
            "\n",
            "\n"
          ],
          "name": "stderr"
        },
        {
          "output_type": "stream",
          "text": [
            "[1] \"Started loading m4_weekly\"\n"
          ],
          "name": "stdout"
        },
        {
          "output_type": "stream",
          "text": [
            "R[write to console]: Oops!  Error in file(file, \"r\"): cannot open the connection\n",
            "\n",
            "\n"
          ],
          "name": "stderr"
        },
        {
          "output_type": "stream",
          "text": [
            "[1] \"Started loading m4_daily\"\n"
          ],
          "name": "stdout"
        },
        {
          "output_type": "stream",
          "text": [
            "R[write to console]: Oops!  Error in file(file, \"r\"): cannot open the connection\n",
            "\n",
            "\n"
          ],
          "name": "stderr"
        },
        {
          "output_type": "stream",
          "text": [
            "[1] \"Started loading m4_hourly\"\n"
          ],
          "name": "stdout"
        },
        {
          "output_type": "stream",
          "text": [
            "R[write to console]: Oops!  Error in file(file, \"r\"): cannot open the connection\n",
            "\n",
            "\n"
          ],
          "name": "stderr"
        },
        {
          "output_type": "stream",
          "text": [
            "[1] \"Started loading car_parts\"\n"
          ],
          "name": "stdout"
        },
        {
          "output_type": "stream",
          "text": [
            "R[write to console]: Oops!  Error in file(file, \"r\"): cannot open the connection\n",
            "\n",
            "\n"
          ],
          "name": "stderr"
        },
        {
          "output_type": "stream",
          "text": [
            "[1] \"Started loading hospital\"\n"
          ],
          "name": "stdout"
        },
        {
          "output_type": "stream",
          "text": [
            "R[write to console]: Oops!  Error in file(file, \"r\"): cannot open the connection\n",
            "\n",
            "\n"
          ],
          "name": "stderr"
        },
        {
          "output_type": "stream",
          "text": [
            "[1] \"Started loading fred_md\"\n"
          ],
          "name": "stdout"
        },
        {
          "output_type": "stream",
          "text": [
            "R[write to console]: Oops!  Error in file(file, \"r\"): cannot open the connection\n",
            "\n",
            "\n"
          ],
          "name": "stderr"
        },
        {
          "output_type": "stream",
          "text": [
            "[1] \"Started loading car_parts\"\n"
          ],
          "name": "stdout"
        },
        {
          "output_type": "stream",
          "text": [
            "R[write to console]: Oops!  Error in file(file, \"r\"): cannot open the connection\n",
            "\n",
            "\n"
          ],
          "name": "stderr"
        },
        {
          "output_type": "stream",
          "text": [
            "[1] \"Started loading hospital\"\n"
          ],
          "name": "stdout"
        },
        {
          "output_type": "stream",
          "text": [
            "R[write to console]: Oops!  Error in file(file, \"r\"): cannot open the connection\n",
            "\n",
            "\n"
          ],
          "name": "stderr"
        },
        {
          "output_type": "stream",
          "text": [
            "[1] \"Started loading fred_md\"\n"
          ],
          "name": "stdout"
        },
        {
          "output_type": "stream",
          "text": [
            "R[write to console]: Oops!  Error in file(file, \"r\"): cannot open the connection\n",
            "\n",
            "\n"
          ],
          "name": "stderr"
        },
        {
          "output_type": "stream",
          "text": [
            "[1] \"Started loading car_parts\"\n"
          ],
          "name": "stdout"
        },
        {
          "output_type": "stream",
          "text": [
            "R[write to console]: Oops!  Error in file(file, \"r\"): cannot open the connection\n",
            "\n",
            "\n"
          ],
          "name": "stderr"
        },
        {
          "output_type": "stream",
          "text": [
            "[1] \"Started loading hospital\"\n"
          ],
          "name": "stdout"
        },
        {
          "output_type": "stream",
          "text": [
            "R[write to console]: Oops!  Error in file(file, \"r\"): cannot open the connection\n",
            "\n",
            "\n"
          ],
          "name": "stderr"
        },
        {
          "output_type": "stream",
          "text": [
            "[1] \"Started loading fred_md\"\n"
          ],
          "name": "stdout"
        },
        {
          "output_type": "stream",
          "text": [
            "R[write to console]: Oops!  Error in file(file, \"r\"): cannot open the connection\n",
            "\n",
            "\n"
          ],
          "name": "stderr"
        },
        {
          "output_type": "stream",
          "text": [
            "[1] \"Started loading nn5_weekly\"\n"
          ],
          "name": "stdout"
        },
        {
          "output_type": "stream",
          "text": [
            "R[write to console]: Oops!  Error in file(file, \"r\"): cannot open the connection\n",
            "\n",
            "\n"
          ],
          "name": "stderr"
        },
        {
          "output_type": "stream",
          "text": [
            "[1] \"Started loading traffic_weekly\"\n"
          ],
          "name": "stdout"
        },
        {
          "output_type": "stream",
          "text": [
            "R[write to console]: Oops!  Error in file(file, \"r\"): cannot open the connection\n",
            "\n",
            "\n"
          ],
          "name": "stderr"
        },
        {
          "output_type": "stream",
          "text": [
            "[1] \"Started loading electricity_weekly\"\n"
          ],
          "name": "stdout"
        },
        {
          "output_type": "stream",
          "text": [
            "R[write to console]: Oops!  Error in file(file, \"r\"): cannot open the connection\n",
            "\n",
            "\n"
          ],
          "name": "stderr"
        },
        {
          "output_type": "stream",
          "text": [
            "[1] \"Started loading solar_weekly\"\n"
          ],
          "name": "stdout"
        },
        {
          "output_type": "stream",
          "text": [
            "R[write to console]: Oops!  Error in file(file, \"r\"): cannot open the connection\n",
            "\n",
            "\n"
          ],
          "name": "stderr"
        },
        {
          "output_type": "stream",
          "text": [
            "[1] \"Started loading kaggle_web_traffic_weekly\"\n"
          ],
          "name": "stdout"
        },
        {
          "output_type": "stream",
          "text": [
            "R[write to console]: Oops!  Error in file(file, \"r\"): cannot open the connection\n",
            "\n",
            "\n"
          ],
          "name": "stderr"
        },
        {
          "output_type": "stream",
          "text": [
            "[1] \"Started loading dominick\"\n"
          ],
          "name": "stdout"
        },
        {
          "output_type": "stream",
          "text": [
            "R[write to console]: Oops!  Error in file(file, \"r\"): cannot open the connection\n",
            "\n",
            "\n"
          ],
          "name": "stderr"
        },
        {
          "output_type": "stream",
          "text": [
            "[1] \"Started loading nn5_weekly\"\n"
          ],
          "name": "stdout"
        },
        {
          "output_type": "stream",
          "text": [
            "R[write to console]: Oops!  Error in file(file, \"r\"): cannot open the connection\n",
            "\n",
            "\n"
          ],
          "name": "stderr"
        },
        {
          "output_type": "stream",
          "text": [
            "[1] \"Started loading traffic_weekly\"\n"
          ],
          "name": "stdout"
        },
        {
          "output_type": "stream",
          "text": [
            "R[write to console]: Oops!  Error in file(file, \"r\"): cannot open the connection\n",
            "\n",
            "\n"
          ],
          "name": "stderr"
        },
        {
          "output_type": "stream",
          "text": [
            "[1] \"Started loading electricity_weekly\"\n"
          ],
          "name": "stdout"
        },
        {
          "output_type": "stream",
          "text": [
            "R[write to console]: Oops!  Error in file(file, \"r\"): cannot open the connection\n",
            "\n",
            "\n"
          ],
          "name": "stderr"
        },
        {
          "output_type": "stream",
          "text": [
            "[1] \"Started loading solar_weekly\"\n"
          ],
          "name": "stdout"
        },
        {
          "output_type": "stream",
          "text": [
            "R[write to console]: Oops!  Error in file(file, \"r\"): cannot open the connection\n",
            "\n",
            "\n"
          ],
          "name": "stderr"
        },
        {
          "output_type": "stream",
          "text": [
            "[1] \"Started loading kaggle_web_traffic_weekly\"\n"
          ],
          "name": "stdout"
        },
        {
          "output_type": "stream",
          "text": [
            "R[write to console]: Oops!  Error in file(file, \"r\"): cannot open the connection\n",
            "\n",
            "\n"
          ],
          "name": "stderr"
        },
        {
          "output_type": "stream",
          "text": [
            "[1] \"Started loading dominick\"\n"
          ],
          "name": "stdout"
        },
        {
          "output_type": "stream",
          "text": [
            "R[write to console]: Oops!  Error in file(file, \"r\"): cannot open the connection\n",
            "\n",
            "\n"
          ],
          "name": "stderr"
        },
        {
          "output_type": "stream",
          "text": [
            "[1] \"Started loading nn5_weekly\"\n"
          ],
          "name": "stdout"
        },
        {
          "output_type": "stream",
          "text": [
            "R[write to console]: Oops!  Error in file(file, \"r\"): cannot open the connection\n",
            "\n",
            "\n"
          ],
          "name": "stderr"
        },
        {
          "output_type": "stream",
          "text": [
            "[1] \"Started loading traffic_weekly\"\n"
          ],
          "name": "stdout"
        },
        {
          "output_type": "stream",
          "text": [
            "R[write to console]: Oops!  Error in file(file, \"r\"): cannot open the connection\n",
            "\n",
            "\n"
          ],
          "name": "stderr"
        },
        {
          "output_type": "stream",
          "text": [
            "[1] \"Started loading electricity_weekly\"\n"
          ],
          "name": "stdout"
        },
        {
          "output_type": "stream",
          "text": [
            "R[write to console]: Oops!  Error in file(file, \"r\"): cannot open the connection\n",
            "\n",
            "\n"
          ],
          "name": "stderr"
        },
        {
          "output_type": "stream",
          "text": [
            "[1] \"Started loading solar_weekly\"\n"
          ],
          "name": "stdout"
        },
        {
          "output_type": "stream",
          "text": [
            "R[write to console]: Oops!  Error in file(file, \"r\"): cannot open the connection\n",
            "\n",
            "\n"
          ],
          "name": "stderr"
        },
        {
          "output_type": "stream",
          "text": [
            "[1] \"Started loading kaggle_web_traffic_weekly\"\n"
          ],
          "name": "stdout"
        },
        {
          "output_type": "stream",
          "text": [
            "R[write to console]: Oops!  Error in file(file, \"r\"): cannot open the connection\n",
            "\n",
            "\n"
          ],
          "name": "stderr"
        },
        {
          "output_type": "stream",
          "text": [
            "[1] \"Started loading dominick\"\n"
          ],
          "name": "stdout"
        },
        {
          "output_type": "stream",
          "text": [
            "R[write to console]: Oops!  Error in file(file, \"r\"): cannot open the connection\n",
            "\n",
            "\n"
          ],
          "name": "stderr"
        },
        {
          "output_type": "stream",
          "text": [
            "[1] \"Started loading us_births\"\n"
          ],
          "name": "stdout"
        },
        {
          "output_type": "stream",
          "text": [
            "R[write to console]: Oops!  Error in file(file, \"r\"): cannot open the connection\n",
            "\n",
            "\n"
          ],
          "name": "stderr"
        },
        {
          "output_type": "stream",
          "text": [
            "[1] \"Started loading saugeen_river_flow\"\n"
          ],
          "name": "stdout"
        },
        {
          "output_type": "stream",
          "text": [
            "R[write to console]: Oops!  Error in file(file, \"r\"): cannot open the connection\n",
            "\n",
            "\n"
          ],
          "name": "stderr"
        },
        {
          "output_type": "stream",
          "text": [
            "[1] \"Started loading sunspot\"\n"
          ],
          "name": "stdout"
        },
        {
          "output_type": "stream",
          "text": [
            "R[write to console]: Oops!  Error in file(file, \"r\"): cannot open the connection\n",
            "\n",
            "\n"
          ],
          "name": "stderr"
        },
        {
          "output_type": "stream",
          "text": [
            "[1] \"Started loading covid_deaths\"\n"
          ],
          "name": "stdout"
        },
        {
          "output_type": "stream",
          "text": [
            "R[write to console]: Oops!  Error in file(file, \"r\"): cannot open the connection\n",
            "\n",
            "\n"
          ],
          "name": "stderr"
        },
        {
          "output_type": "stream",
          "text": [
            "[1] \"Started loading weather\"\n"
          ],
          "name": "stdout"
        },
        {
          "output_type": "stream",
          "text": [
            "R[write to console]: Oops!  Error in file(file, \"r\"): cannot open the connection\n",
            "\n",
            "\n"
          ],
          "name": "stderr"
        },
        {
          "output_type": "stream",
          "text": [
            "[1] \"Started loading bitcoin\"\n"
          ],
          "name": "stdout"
        },
        {
          "output_type": "stream",
          "text": [
            "R[write to console]: Oops!  Error in file(file, \"r\"): cannot open the connection\n",
            "\n",
            "\n"
          ],
          "name": "stderr"
        },
        {
          "output_type": "stream",
          "text": [
            "[1] \"Started loading vehicle_trips\"\n"
          ],
          "name": "stdout"
        },
        {
          "output_type": "stream",
          "text": [
            "R[write to console]: Oops!  Error in file(file, \"r\"): cannot open the connection\n",
            "\n",
            "\n"
          ],
          "name": "stderr"
        },
        {
          "output_type": "stream",
          "text": [
            "[1] \"Started loading temperature_rain\"\n"
          ],
          "name": "stdout"
        },
        {
          "output_type": "stream",
          "text": [
            "R[write to console]: Oops!  Error in file(file, \"r\"): cannot open the connection\n",
            "\n",
            "\n"
          ],
          "name": "stderr"
        },
        {
          "output_type": "stream",
          "text": [
            "[1] \"Started loading us_births\"\n"
          ],
          "name": "stdout"
        },
        {
          "output_type": "stream",
          "text": [
            "R[write to console]: Oops!  Error in file(file, \"r\"): cannot open the connection\n",
            "\n",
            "\n"
          ],
          "name": "stderr"
        },
        {
          "output_type": "stream",
          "text": [
            "[1] \"Started loading saugeen_river_flow\"\n"
          ],
          "name": "stdout"
        },
        {
          "output_type": "stream",
          "text": [
            "R[write to console]: Oops!  Error in file(file, \"r\"): cannot open the connection\n",
            "\n",
            "\n"
          ],
          "name": "stderr"
        },
        {
          "output_type": "stream",
          "text": [
            "[1] \"Started loading sunspot\"\n"
          ],
          "name": "stdout"
        },
        {
          "output_type": "stream",
          "text": [
            "R[write to console]: Oops!  Error in file(file, \"r\"): cannot open the connection\n",
            "\n",
            "\n"
          ],
          "name": "stderr"
        },
        {
          "output_type": "stream",
          "text": [
            "[1] \"Started loading covid_deaths\"\n"
          ],
          "name": "stdout"
        },
        {
          "output_type": "stream",
          "text": [
            "R[write to console]: Oops!  Error in file(file, \"r\"): cannot open the connection\n",
            "\n",
            "\n"
          ],
          "name": "stderr"
        },
        {
          "output_type": "stream",
          "text": [
            "[1] \"Started loading weather\"\n"
          ],
          "name": "stdout"
        },
        {
          "output_type": "stream",
          "text": [
            "R[write to console]: Oops!  Error in file(file, \"r\"): cannot open the connection\n",
            "\n",
            "\n"
          ],
          "name": "stderr"
        },
        {
          "output_type": "stream",
          "text": [
            "[1] \"Started loading bitcoin\"\n"
          ],
          "name": "stdout"
        },
        {
          "output_type": "stream",
          "text": [
            "R[write to console]: Oops!  Error in file(file, \"r\"): cannot open the connection\n",
            "\n",
            "\n"
          ],
          "name": "stderr"
        },
        {
          "output_type": "stream",
          "text": [
            "[1] \"Started loading vehicle_trips\"\n"
          ],
          "name": "stdout"
        },
        {
          "output_type": "stream",
          "text": [
            "R[write to console]: Oops!  Error in file(file, \"r\"): cannot open the connection\n",
            "\n",
            "\n"
          ],
          "name": "stderr"
        },
        {
          "output_type": "stream",
          "text": [
            "[1] \"Started loading temperature_rain\"\n"
          ],
          "name": "stdout"
        },
        {
          "output_type": "stream",
          "text": [
            "R[write to console]: Oops!  Error in file(file, \"r\"): cannot open the connection\n",
            "\n",
            "\n"
          ],
          "name": "stderr"
        },
        {
          "output_type": "stream",
          "text": [
            "[1] \"Started loading us_births\"\n"
          ],
          "name": "stdout"
        },
        {
          "output_type": "stream",
          "text": [
            "R[write to console]: Oops!  Error in file(file, \"r\"): cannot open the connection\n",
            "\n",
            "\n"
          ],
          "name": "stderr"
        },
        {
          "output_type": "stream",
          "text": [
            "[1] \"Started loading saugeen_river_flow\"\n"
          ],
          "name": "stdout"
        },
        {
          "output_type": "stream",
          "text": [
            "R[write to console]: Oops!  Error in file(file, \"r\"): cannot open the connection\n",
            "\n",
            "\n"
          ],
          "name": "stderr"
        },
        {
          "output_type": "stream",
          "text": [
            "[1] \"Started loading sunspot\"\n"
          ],
          "name": "stdout"
        },
        {
          "output_type": "stream",
          "text": [
            "R[write to console]: Oops!  Error in file(file, \"r\"): cannot open the connection\n",
            "\n",
            "\n"
          ],
          "name": "stderr"
        },
        {
          "output_type": "stream",
          "text": [
            "[1] \"Started loading covid_deaths\"\n"
          ],
          "name": "stdout"
        },
        {
          "output_type": "stream",
          "text": [
            "R[write to console]: Oops!  Error in file(file, \"r\"): cannot open the connection\n",
            "\n",
            "\n"
          ],
          "name": "stderr"
        },
        {
          "output_type": "stream",
          "text": [
            "[1] \"Started loading weather\"\n"
          ],
          "name": "stdout"
        },
        {
          "output_type": "stream",
          "text": [
            "R[write to console]: Oops!  Error in file(file, \"r\"): cannot open the connection\n",
            "\n",
            "\n"
          ],
          "name": "stderr"
        },
        {
          "output_type": "stream",
          "text": [
            "[1] \"Started loading bitcoin\"\n"
          ],
          "name": "stdout"
        },
        {
          "output_type": "stream",
          "text": [
            "R[write to console]: Oops!  Error in file(file, \"r\"): cannot open the connection\n",
            "\n",
            "\n"
          ],
          "name": "stderr"
        },
        {
          "output_type": "stream",
          "text": [
            "[1] \"Started loading vehicle_trips\"\n"
          ],
          "name": "stdout"
        },
        {
          "output_type": "stream",
          "text": [
            "R[write to console]: Oops!  Error in file(file, \"r\"): cannot open the connection\n",
            "\n",
            "\n"
          ],
          "name": "stderr"
        },
        {
          "output_type": "stream",
          "text": [
            "[1] \"Started loading temperature_rain\"\n"
          ],
          "name": "stdout"
        },
        {
          "output_type": "stream",
          "text": [
            "R[write to console]: Oops!  Error in file(file, \"r\"): cannot open the connection\n",
            "\n",
            "\n"
          ],
          "name": "stderr"
        },
        {
          "output_type": "stream",
          "text": [
            "[1] \"Started loading elecdemand\"\n"
          ],
          "name": "stdout"
        },
        {
          "output_type": "stream",
          "text": [
            "R[write to console]: Oops!  Error in file(file, \"r\"): cannot open the connection\n",
            "\n",
            "\n"
          ],
          "name": "stderr"
        },
        {
          "output_type": "stream",
          "text": [
            "[1] \"Started loading traffic_hourly\"\n"
          ],
          "name": "stdout"
        },
        {
          "output_type": "stream",
          "text": [
            "R[write to console]: Oops!  Error in file(file, \"r\"): cannot open the connection\n",
            "\n",
            "\n"
          ],
          "name": "stderr"
        },
        {
          "output_type": "stream",
          "text": [
            "[1] \"Started loading electricity_hourly\"\n"
          ],
          "name": "stdout"
        },
        {
          "output_type": "stream",
          "text": [
            "R[write to console]: Oops!  Error in file(file, \"r\"): cannot open the connection\n",
            "\n",
            "\n"
          ],
          "name": "stderr"
        },
        {
          "output_type": "stream",
          "text": [
            "[1] \"Started loading solar_10_minutes\"\n"
          ],
          "name": "stdout"
        },
        {
          "output_type": "stream",
          "text": [
            "R[write to console]: Oops!  Error in file(file, \"r\"): cannot open the connection\n",
            "\n",
            "\n"
          ],
          "name": "stderr"
        },
        {
          "output_type": "stream",
          "text": [
            "[1] \"Started loading kdd_cup\"\n"
          ],
          "name": "stdout"
        },
        {
          "output_type": "stream",
          "text": [
            "R[write to console]: Oops!  Error in file(file, \"r\"): cannot open the connection\n",
            "\n",
            "\n"
          ],
          "name": "stderr"
        },
        {
          "output_type": "stream",
          "text": [
            "[1] \"Started loading melbourne_pedestrian_counts\"\n"
          ],
          "name": "stdout"
        },
        {
          "output_type": "stream",
          "text": [
            "R[write to console]: Oops!  Error in file(file, \"r\"): cannot open the connection\n",
            "\n",
            "\n"
          ],
          "name": "stderr"
        },
        {
          "output_type": "stream",
          "text": [
            "[1] \"Started loading aus_elecdemand\"\n"
          ],
          "name": "stdout"
        },
        {
          "output_type": "stream",
          "text": [
            "R[write to console]: Oops!  Error in file(file, \"r\"): cannot open the connection\n",
            "\n",
            "\n"
          ],
          "name": "stderr"
        },
        {
          "output_type": "stream",
          "text": [
            "[1] \"Started loading rideshare\"\n"
          ],
          "name": "stdout"
        },
        {
          "output_type": "stream",
          "text": [
            "R[write to console]: Oops!  Error in file(file, \"r\"): cannot open the connection\n",
            "\n",
            "\n"
          ],
          "name": "stderr"
        },
        {
          "output_type": "stream",
          "text": [
            "[1] \"Started loading elecdemand\"\n"
          ],
          "name": "stdout"
        },
        {
          "output_type": "stream",
          "text": [
            "R[write to console]: Oops!  Error in file(file, \"r\"): cannot open the connection\n",
            "\n",
            "\n"
          ],
          "name": "stderr"
        },
        {
          "output_type": "stream",
          "text": [
            "[1] \"Started loading traffic_hourly\"\n"
          ],
          "name": "stdout"
        },
        {
          "output_type": "stream",
          "text": [
            "R[write to console]: Oops!  Error in file(file, \"r\"): cannot open the connection\n",
            "\n",
            "\n"
          ],
          "name": "stderr"
        },
        {
          "output_type": "stream",
          "text": [
            "[1] \"Started loading electricity_hourly\"\n"
          ],
          "name": "stdout"
        },
        {
          "output_type": "stream",
          "text": [
            "R[write to console]: Oops!  Error in file(file, \"r\"): cannot open the connection\n",
            "\n",
            "\n"
          ],
          "name": "stderr"
        },
        {
          "output_type": "stream",
          "text": [
            "[1] \"Started loading solar_10_minutes\"\n"
          ],
          "name": "stdout"
        },
        {
          "output_type": "stream",
          "text": [
            "R[write to console]: Oops!  Error in file(file, \"r\"): cannot open the connection\n",
            "\n",
            "\n"
          ],
          "name": "stderr"
        },
        {
          "output_type": "stream",
          "text": [
            "[1] \"Started loading kdd_cup\"\n"
          ],
          "name": "stdout"
        },
        {
          "output_type": "stream",
          "text": [
            "R[write to console]: Oops!  Error in file(file, \"r\"): cannot open the connection\n",
            "\n",
            "\n"
          ],
          "name": "stderr"
        },
        {
          "output_type": "stream",
          "text": [
            "[1] \"Started loading melbourne_pedestrian_counts\"\n"
          ],
          "name": "stdout"
        },
        {
          "output_type": "stream",
          "text": [
            "R[write to console]: Oops!  Error in file(file, \"r\"): cannot open the connection\n",
            "\n",
            "\n"
          ],
          "name": "stderr"
        },
        {
          "output_type": "stream",
          "text": [
            "[1] \"Started loading aus_elecdemand\"\n"
          ],
          "name": "stdout"
        },
        {
          "output_type": "stream",
          "text": [
            "R[write to console]: Oops!  Error in file(file, \"r\"): cannot open the connection\n",
            "\n",
            "\n"
          ],
          "name": "stderr"
        },
        {
          "output_type": "stream",
          "text": [
            "[1] \"Started loading rideshare\"\n"
          ],
          "name": "stdout"
        },
        {
          "output_type": "stream",
          "text": [
            "R[write to console]: Oops!  Error in file(file, \"r\"): cannot open the connection\n",
            "\n",
            "\n"
          ],
          "name": "stderr"
        },
        {
          "output_type": "stream",
          "text": [
            "[1] \"Started loading elecdemand\"\n"
          ],
          "name": "stdout"
        },
        {
          "output_type": "stream",
          "text": [
            "R[write to console]: Oops!  Error in file(file, \"r\"): cannot open the connection\n",
            "\n",
            "\n"
          ],
          "name": "stderr"
        },
        {
          "output_type": "stream",
          "text": [
            "[1] \"Started loading traffic_hourly\"\n"
          ],
          "name": "stdout"
        },
        {
          "output_type": "stream",
          "text": [
            "R[write to console]: Oops!  Error in file(file, \"r\"): cannot open the connection\n",
            "\n",
            "\n"
          ],
          "name": "stderr"
        },
        {
          "output_type": "stream",
          "text": [
            "[1] \"Started loading electricity_hourly\"\n"
          ],
          "name": "stdout"
        },
        {
          "output_type": "stream",
          "text": [
            "R[write to console]: Oops!  Error in file(file, \"r\"): cannot open the connection\n",
            "\n",
            "\n"
          ],
          "name": "stderr"
        },
        {
          "output_type": "stream",
          "text": [
            "[1] \"Started loading solar_10_minutes\"\n"
          ],
          "name": "stdout"
        },
        {
          "output_type": "stream",
          "text": [
            "R[write to console]: Oops!  Error in file(file, \"r\"): cannot open the connection\n",
            "\n",
            "\n"
          ],
          "name": "stderr"
        },
        {
          "output_type": "stream",
          "text": [
            "[1] \"Started loading kdd_cup\"\n"
          ],
          "name": "stdout"
        },
        {
          "output_type": "stream",
          "text": [
            "R[write to console]: Oops!  Error in file(file, \"r\"): cannot open the connection\n",
            "\n",
            "\n"
          ],
          "name": "stderr"
        },
        {
          "output_type": "stream",
          "text": [
            "[1] \"Started loading melbourne_pedestrian_counts\"\n"
          ],
          "name": "stdout"
        },
        {
          "output_type": "stream",
          "text": [
            "R[write to console]: Oops!  Error in file(file, \"r\"): cannot open the connection\n",
            "\n",
            "\n"
          ],
          "name": "stderr"
        },
        {
          "output_type": "stream",
          "text": [
            "[1] \"Started loading aus_elecdemand\"\n"
          ],
          "name": "stdout"
        },
        {
          "output_type": "stream",
          "text": [
            "R[write to console]: Oops!  Error in file(file, \"r\"): cannot open the connection\n",
            "\n",
            "\n"
          ],
          "name": "stderr"
        },
        {
          "output_type": "stream",
          "text": [
            "[1] \"Started loading rideshare\"\n"
          ],
          "name": "stdout"
        },
        {
          "output_type": "stream",
          "text": [
            "R[write to console]: Oops!  Error in file(file, \"r\"): cannot open the connection\n",
            "\n",
            "\n"
          ],
          "name": "stderr"
        }
      ]
    },
    {
      "cell_type": "code",
      "metadata": {
        "id": "eZyIyTQyEJvy"
      },
      "source": [
        "%%R\n",
        "BASE_DIR <- \"TSForecasting\"\n",
        "\n",
        "source(file.path(BASE_DIR, \"utils\", \"data_loader.R\", fsep = \"/\"))\n",
        "source(file.path(BASE_DIR, \"utils\", \"error_calculator.R\", fsep = \"/\"))\n",
        "source(file.path(BASE_DIR, \"utils\", \"global_model_helper.R\", fsep = \"/\"))\n",
        "source(file.path(BASE_DIR, \"models\", \"local_univariate_models.R\", fsep = \"/\"))\n",
        "source(file.path(BASE_DIR, \"models\", \"global_models.R\", fsep = \"/\"))\n"
      ],
      "execution_count": 26,
      "outputs": []
    },
    {
      "cell_type": "code",
      "metadata": {
        "id": "eoCqhx8HGe67"
      },
      "source": [
        "%%R\n",
        "# The name of the column containing time series values after loading data from the .tsf file into a tsibble\n",
        "VALUE_COL_NAME <- \"series_value\"\n",
        "\n",
        "# Defining the required forecasting models based on frequency. \n",
        "# Current supporting forecasting methods are ets, theta, simple exponential smoothing, tbats, auto.arima and dynamic harmonic regression arima\n",
        "# You can also define new forecasting methods (probably in models/local_univariate_models.R) and link them here as required\n",
        "MODELS_HIGH_FREQ <- c(\"ses\", \"theta\", \"ets\", \"arima\") # for yearly, quarterly, monthly, and daily datasets\n",
        "MODELS_LOW_FREQ <- c(\"ses\", \"theta\", \"tbats\", \"dhr_arima\") # for 4_seconds, minutely, 10_minutes, 15_minutes, half_hourly, hourly and weekly datasets\n",
        "\n",
        "# Seasonality values corresponding with the frequencies: 4_seconds, minutely, 10_minutes, 15_minutes, half_hourly, hourly, daily, weekly, monthly, quarterly and yearly\n",
        "# Consider multiple seasonalities for frequencies less than daily\n",
        "SEASONALITY_VALS <- list()\n",
        "SEASONALITY_VALS[[1]] <- c(21600, 151200, 7889400)\n",
        "SEASONALITY_VALS[[2]] <- c(1440, 10080, 525960)\n",
        "SEASONALITY_VALS[[3]] <- c(144, 1008, 52596)\n",
        "SEASONALITY_VALS[[4]] <- c(96, 672, 35064)\n",
        "SEASONALITY_VALS[[5]] <- c(48, 336, 17532)\n",
        "SEASONALITY_VALS[[6]] <- c(24, 168, 8766)\n",
        "SEASONALITY_VALS[[7]] <- 7\n",
        "SEASONALITY_VALS[[8]] <- 365.25/7\n",
        "SEASONALITY_VALS[[9]] <- 12 \n",
        "SEASONALITY_VALS[[10]] <- 4\n",
        "SEASONALITY_VALS[[11]] <- 1  \n",
        "\n",
        "SEASONALITY_MAP <- list()\n",
        "\n",
        "for(f in seq_along(FREQUENCIES)){\n",
        "  SEASONALITY_MAP[[FREQUENCIES[f]]] <- SEASONALITY_VALS[[f]]\n",
        "}\n",
        "\n",
        "\n",
        "# This function performs the fixed horizon evaluation with local models\n",
        "#\n",
        "# Parameters\n",
        "# dataset_name - the name of the dataset\n",
        "# method - a list of forecasting models that needs to be evaluated\n",
        "# input_file_name - name of the .tsf file corresponding with the dataset\n",
        "# key - the name of the attribute that should be used as the key when creating the tsibble\n",
        "# index - the name of the time attribute that should be used as the index when creating the tsibble\n",
        "# external_forecast_horizon - the required forecast horizon, if it is not available in the .tsf file\n",
        "# integer_conversion - whether the forecasts should be rounded or not\n",
        "do_fixed_horizon_local_forecasting <- function(dataset_name, methods, input_file_name, key = NULL, index = NULL, external_forecast_horizon = NULL, integer_conversion = FALSE){\n",
        "  \n",
        "  print(paste0(\"Started loading \", dataset_name))\n",
        "  \n",
        "  # Loading data from the .tsf file\n",
        "  loaded_data <- convert_tsf_to_tsibble(file.path(BASE_DIR, \"tsf_data\", input_file_name, fsep = \"/\"), VALUE_COL_NAME, key, index)\n",
        "  dataset <- loaded_data[[1]]\n",
        "  frequency <- loaded_data[[2]]\n",
        "  forecast_horizon <- loaded_data[[3]]\n",
        "  \n",
        "  \n",
        "  if(!is.null(frequency))\n",
        "    seasonality <- SEASONALITY_MAP[[frequency]]\n",
        "  else\n",
        "    seasonality <- 1\n",
        "  \n",
        "  \n",
        "  # If the forecast horizon is not given within the .tsf file, then it should be provided as a function input\n",
        "  if(is.null(forecast_horizon) & !(\"horizon\" %in% colnames(dataset))){\n",
        "    if(is.null(external_forecast_horizon))\n",
        "      stop(\"Please provide the required forecast horizon\")\n",
        "    else\n",
        "      forecast_horizon <- external_forecast_horizon\n",
        "  }\n",
        "  \n",
        "  all_serie_names <- unique(dataset$series_name)\n",
        "  \n",
        "  train_series_list <- list()\n",
        "  \n",
        "  if(!is.null(forecast_horizon))\n",
        "    actual_matrix <- matrix(NA, nrow = length(all_serie_names), ncol = forecast_horizon)\n",
        "  else\n",
        "    actual_matrix <- matrix(NA, nrow = length(all_serie_names), ncol = max(as.numeric(dataset[[\"horizon\"]])))\n",
        "  \n",
        "  \n",
        "  start_time <- Sys.time()\n",
        "  \n",
        "  print(\"started Forecasting\")\n",
        "  \n",
        "  dir.create(file.path(BASE_DIR, \"results\", \"fixed_horizon_forecasts\", fsep = \"/\"), showWarnings = FALSE, recursive=TRUE)\n",
        "  \n",
        "  for(s in seq_along(all_serie_names)){\n",
        "    print(s)\n",
        "    \n",
        "    series_data <- dataset[dataset$series_name == as.character(all_serie_names[s]), ]\n",
        "    \n",
        "    if(\"horizon\" %in% colnames(dataset))\n",
        "      forecast_horizon <- as.numeric(unique(series_data[[\"horizon\"]]))\n",
        "    \n",
        "    if(nrow(series_data) < forecast_horizon)\n",
        "      forecast_horizon <- 1\n",
        "    \n",
        "    train_series_data <- series_data[1:(nrow(series_data) - forecast_horizon),]\n",
        "    test_series_data <- series_data[(nrow(series_data) - forecast_horizon + 1):nrow(series_data),][[VALUE_COL_NAME]]\n",
        "    \n",
        "    if(forecast_horizon < ncol(actual_matrix))\n",
        "      test_series_data <- c(test_series_data, rep(NA, (ncol(actual_matrix) - forecast_horizon)))\n",
        "    \n",
        "    train_series_list[[s]] <- train_series_data[[VALUE_COL_NAME]]\n",
        "    actual_matrix[s,] <- test_series_data\n",
        "    \n",
        "    if(!is.null(index))\n",
        "      start_date <- start(as.ts(train_series_data[, c(index, VALUE_COL_NAME)], frequency = max(seasonality)))\n",
        "    \n",
        "    if(is.null(index))\n",
        "      series <- forecast:::msts(train_series_data[[VALUE_COL_NAME]], seasonal.periods = seasonality)\n",
        "    else\n",
        "      series <- forecast:::msts(train_series_data[[VALUE_COL_NAME]], start = start_date, seasonal.periods = seasonality)\n",
        "    \n",
        "    # Forecasting\n",
        "    for(method in methods){\n",
        "      current_method_forecasts <- eval(parse(text = paste0(\"get_\", method, \"_forecasts(series, forecast_horizon)\")))\n",
        "      \n",
        "      if(typeof(current_method_forecasts) == \"list\")\n",
        "        current_method_forecasts <- current_method_forecasts[[1]]\n",
        "      \n",
        "      current_method_forecasts[is.na(current_method_forecasts)] <- 0\n",
        "      \n",
        "      if(integer_conversion)\n",
        "        current_method_forecasts <- round(current_method_forecasts)\n",
        "      \n",
        "      write.table(t(c(all_serie_names[s], current_method_forecasts)), file.path(BASE_DIR, \"results\", \"fixed_horizon_forecasts\", paste0(dataset_name, \"_\", method, \".txt\"), fsep = \"/\"), row.names = FALSE, col.names = FALSE, sep = \",\", quote = FALSE, append = TRUE)\n",
        "    }\n",
        "  }\n",
        "  \n",
        "  end_time <- Sys.time()\n",
        "  \n",
        "  print(\"Finished Forecasting\")\n",
        "  \n",
        "  # Execution time\n",
        "  exec_time <- end_time - start_time\n",
        "  print(exec_time)\n",
        "  dir.create(file.path(BASE_DIR, \"results\", \"fixed_horizon_execution_times\", fsep = \"/\"), showWarnings = FALSE, recursive=TRUE)\n",
        "  write(paste(exec_time, attr(exec_time, \"units\")), file = file.path(BASE_DIR, \"results\", \"fixed_horizon_execution_times\", paste0(dataset_name, \".txt\"), fsep = \"/\"), append = FALSE)\n",
        "  \n",
        "  # Error calculations\n",
        "  dir.create(file.path(BASE_DIR, \"results\", \"fixed_horizon_errors\", fsep = \"/\"), showWarnings = FALSE, recursive=TRUE)\n",
        "  \n",
        "  for(method in methods){\n",
        "    forecast_matrix <- read.csv(file.path(BASE_DIR, \"results\", \"fixed_horizon_forecasts\", paste0(dataset_name, \"_\", method, \".txt\"), fsep = \"/\"), header = F)\n",
        "    forecast_matrix <- as.matrix(forecast_matrix[-1])\n",
        "    calculate_errors(forecast_matrix, actual_matrix, train_series_list, seasonality, file.path(BASE_DIR, \"results\", \"fixed_horizon_errors\", paste0(dataset_name, \"_\", method), fsep = \"/\"))\n",
        "  }\n",
        "}\n",
        "\n",
        "\n",
        "\n",
        "# This function performs the fixed horizon evaluation with global models\n",
        "# For our experiments, we only consider pooled regression under this category\n",
        "#\n",
        "# Parameters\n",
        "# dataset_name - the name of the dataset\n",
        "# lag - the number of past lags that should be used when predicting the next future value of time series\n",
        "# input_file_name - name of the .tsf file corresponding with the dataset\n",
        "# method - name of the global forecasting method that you want to evaluate\n",
        "# key - the name of the attribute that should be used as the key when creating the tsibble\n",
        "# index - the name of the time attribute that should be used as the index when creating the tsibble\n",
        "# external_forecast_horizon - the required forecast horizon, if it is not available in the .tsf file\n",
        "# integer_conversion - whether the forecasts should be rounded or not\n",
        "do_fixed_horizon_global_forecasting <- function(dataset_name, lag, input_file_name, method, key = NULL, index = NULL, external_forecast_horizon = NULL, integer_conversion = FALSE){\n",
        "  \n",
        "  print(paste0(\"Started loading \", dataset_name))\n",
        "  \n",
        "  # Loading data from the .tsf file\n",
        "  loaded_data <- convert_tsf_to_tsibble(file.path(BASE_DIR, \"tsf_data\", input_file_name, fsep = \"/\"), VALUE_COL_NAME, key, index)\n",
        "  dataset <- loaded_data[[1]]\n",
        "  frequency <- loaded_data[[2]]\n",
        "  forecast_horizon <- loaded_data[[3]]\n",
        "  \n",
        "  \n",
        "  if(!is.null(frequency))\n",
        "    seasonality <- SEASONALITY_MAP[[frequency]]\n",
        "  else\n",
        "    seasonality <- 1\n",
        "  \n",
        "  \n",
        "  if(\"horizon\" %in% colnames(dataset))\n",
        "    forecast_horizon <- max(as.numeric(dataset[[\"horizon\"]]))\n",
        "  \n",
        "  # If the forecast horizon is not given within the .tsf file, then it should be provided as a function input  \n",
        "  if(is.null(forecast_horizon)){\n",
        "    if(is.null(external_forecast_horizon))\n",
        "      stop(\"Please provide the required forecast horizon\")\n",
        "    else\n",
        "      forecast_horizon <- external_forecast_horizon\n",
        "  }\n",
        "  \n",
        "  all_serie_names <- unique(dataset$series_name)\n",
        "  \n",
        "  train_series_list <- list()\n",
        "  \n",
        "  actual_matrix <- matrix(NA, nrow = length(all_serie_names), ncol = forecast_horizon)\n",
        "  \n",
        "  start_time <- Sys.time()\n",
        "  \n",
        "  print(\"started Forecasting\")\n",
        "  \n",
        "  for(s in seq_along(all_serie_names)){\n",
        "    series_data <- dataset[dataset$series_name == as.character(all_serie_names[s]), ]\n",
        "    \n",
        "    if(\"horizon\" %in% colnames(dataset))\n",
        "      series_forecast_horizon <- as.numeric(unique(series_data[[\"horizon\"]]))\n",
        "    else\n",
        "      series_forecast_horizon <- forecast_horizon\n",
        "    \n",
        "    train_series_data <- series_data[1:(nrow(series_data) - series_forecast_horizon),]\n",
        "    test_series_data <- series_data[(nrow(series_data) - series_forecast_horizon + 1):nrow(series_data),][[VALUE_COL_NAME]]\n",
        "    \n",
        "    if(series_forecast_horizon < ncol(actual_matrix))\n",
        "      test_series_data <- c(test_series_data, rep(NA, (ncol(actual_matrix) - series_forecast_horizon)))\n",
        "    \n",
        "    train_series_list[[s]] <- train_series_data[[VALUE_COL_NAME]]\n",
        "    actual_matrix[s,] <- test_series_data\n",
        "  }\n",
        "  \n",
        "  # Forecasting\n",
        "  forecast_matrix <- start_forecasting(train_series_list, lag, forecast_horizon, method)\n",
        "  forecast_matrix[is.na(forecast_matrix)] <- 0\n",
        "  \n",
        "  if(integer_conversion)\n",
        "    forecast_matrix <- round(forecast_matrix)\n",
        "  \n",
        "  dir.create(file.path(BASE_DIR, \"results\", \"fixed_horizon_forecasts\", fsep = \"/\"), showWarnings = FALSE, recursive=TRUE)\n",
        "  \n",
        "  for(s in seq_along(all_serie_names)){\n",
        "    actual_series <- as.numeric(actual_matrix[s,])\n",
        "    diff <- sum(is.na(actual_series))\n",
        "    \n",
        "    if(diff > 0)\n",
        "      forecast_matrix[s, (ncol(forecast_matrix) - diff + 1) : ncol(forecast_matrix)] <- rep(NA, diff)\n",
        "    \n",
        "    write.table(t(c(all_serie_names[s], as.numeric(forecast_matrix[s,])[1:(length(actual_series) - diff)])), file.path(BASE_DIR, \"results\", \"fixed_horizon_forecasts\", paste0(dataset_name, \"_\", method, \"_lag_\", lag, \".txt\"), fsep = \"/\"), row.names = FALSE, col.names = FALSE, sep = \",\", quote = FALSE, append = TRUE)\n",
        "  }\n",
        "  \n",
        "  end_time <- Sys.time()\n",
        "  \n",
        "  print(\"Finished Forecasting\")\n",
        "  \n",
        "  # Execution time\n",
        "  exec_time <- end_time - start_time\n",
        "  print(exec_time)\n",
        "  dir.create(file.path(BASE_DIR, \"results\", \"fixed_horizon_execution_times\", fsep = \"/\"), showWarnings = FALSE, recursive=TRUE)\n",
        "  write(paste(exec_time, attr(exec_time, \"units\")), file = file.path(BASE_DIR, \"results\", \"fixed_horizon_execution_times\", paste0(dataset_name, \"_\", method, \"_lag_\", lag, \".txt\"), fsep = \"/\"), append = FALSE)\n",
        "  \n",
        "  # Error calculations\n",
        "  dir.create(file.path(BASE_DIR, \"results\", \"fixed_horizon_errors\", fsep = \"/\"), showWarnings = FALSE, recursive=TRUE)\n",
        "  forecast_matrix <- as.matrix(forecast_matrix)\n",
        "  calculate_errors(forecast_matrix, actual_matrix, train_series_list, seasonality, file.path(BASE_DIR, \"results\", \"fixed_horizon_errors\", paste0(dataset_name, \"_\", method, \"_lag_\", lag), fsep = \"/\"))\n",
        "}\n"
      ],
      "execution_count": 27,
      "outputs": []
    },
    {
      "cell_type": "code",
      "metadata": {
        "id": "SjRIshRGGl1q",
        "outputId": "49c10a89-11da-4ccc-e417-03ac2ae72189",
        "colab": {
          "base_uri": "https://localhost:8080/"
        }
      },
      "source": [
        "%%R\n",
        "\n",
        "do_fixed_horizon_local_forecasting(\"sample\", MODELS_LOW_FREQ, \"sample.tsf\", \"series_name\", \"start_timestamp\", 8)"
      ],
      "execution_count": null,
      "outputs": [
        {
          "output_type": "stream",
          "text": [
            "[1] \"Started loading sample\"\n",
            "[1] \"started Forecasting\"\n",
            "[1] 1\n",
            "[1] 2\n",
            "[1] 3\n",
            "[1] 4\n",
            "[1] 5\n",
            "[1] 6\n",
            "[1] 7\n",
            "[1] 8\n",
            "[1] 9\n",
            "[1] 10\n",
            "[1] 11\n",
            "[1] 12\n",
            "[1] 13\n",
            "[1] 14\n",
            "[1] 15\n",
            "[1] 16\n",
            "[1] 17\n",
            "[1] 18\n",
            "[1] 19\n",
            "[1] 20\n",
            "[1] 21\n",
            "[1] 22\n",
            "[1] 23\n",
            "[1] 24\n",
            "[1] 25\n",
            "[1] 26\n",
            "[1] 27\n",
            "[1] 28\n",
            "[1] 29\n",
            "[1] 30\n",
            "[1] 31\n",
            "[1] 32\n",
            "[1] 33\n",
            "[1] 34\n",
            "[1] 35\n",
            "[1] 36\n",
            "[1] 37\n",
            "[1] 38\n",
            "[1] 39\n",
            "[1] 40\n",
            "[1] 41\n",
            "[1] 42\n",
            "[1] 43\n",
            "[1] 44\n",
            "[1] 45\n",
            "[1] 46\n",
            "[1] 47\n",
            "[1] 48\n",
            "[1] 49\n",
            "[1] 50\n",
            "[1] 51\n",
            "[1] 52\n",
            "[1] 53\n",
            "[1] 54\n",
            "[1] 55\n",
            "[1] 56\n",
            "[1] 57\n",
            "[1] 58\n",
            "[1] 59\n",
            "[1] 60\n",
            "[1] 61\n",
            "[1] 62\n",
            "[1] 63\n",
            "[1] 64\n",
            "[1] 65\n",
            "[1] 66\n",
            "[1] 67\n",
            "[1] 68\n",
            "[1] 69\n",
            "[1] 70\n",
            "[1] 71\n",
            "[1] 72\n",
            "[1] 73\n",
            "[1] 74\n",
            "[1] 75\n",
            "[1] 76\n",
            "[1] 77\n",
            "[1] 78\n",
            "[1] 79\n",
            "[1] 80\n",
            "[1] 81\n",
            "[1] 82\n",
            "[1] 83\n",
            "[1] 84\n",
            "[1] 85\n",
            "[1] 86\n",
            "[1] 87\n",
            "[1] 88\n",
            "[1] 89\n",
            "[1] 90\n",
            "[1] 91\n",
            "[1] 92\n",
            "[1] 93\n",
            "[1] 94\n",
            "[1] 95\n",
            "[1] 96\n",
            "[1] 97\n",
            "[1] 98\n",
            "[1] 99\n",
            "[1] 100\n",
            "[1] 101\n",
            "[1] 102\n",
            "[1] 103\n",
            "[1] 104\n",
            "[1] 105\n",
            "[1] 106\n",
            "[1] 107\n",
            "[1] 108\n",
            "[1] 109\n",
            "[1] 110\n",
            "[1] 111\n",
            "[1] 112\n",
            "[1] 113\n",
            "[1] 114\n",
            "[1] 115\n",
            "[1] 116\n",
            "[1] 117\n",
            "[1] 118\n",
            "[1] 119\n",
            "[1] 120\n",
            "[1] 121\n",
            "[1] 122\n",
            "[1] 123\n",
            "[1] 124\n",
            "[1] 125\n",
            "[1] 126\n",
            "[1] 127\n",
            "[1] 128\n",
            "[1] 129\n",
            "[1] 130\n",
            "[1] 131\n",
            "[1] 132\n",
            "[1] 133\n",
            "[1] 134\n",
            "[1] 135\n",
            "[1] 136\n",
            "[1] 137\n",
            "[1] 138\n",
            "[1] 139\n",
            "[1] 140\n",
            "[1] 141\n",
            "[1] 142\n",
            "[1] 143\n",
            "[1] 144\n",
            "[1] 145\n",
            "[1] 146\n",
            "[1] 147\n",
            "[1] 148\n",
            "[1] 149\n",
            "[1] 150\n",
            "[1] 151\n",
            "[1] 152\n",
            "[1] 153\n",
            "[1] 154\n",
            "[1] 155\n",
            "[1] 156\n",
            "[1] 157\n",
            "[1] 158\n",
            "[1] 159\n",
            "[1] 160\n",
            "[1] 161\n",
            "[1] 162\n",
            "[1] 163\n",
            "[1] 164\n",
            "[1] 165\n",
            "[1] 166\n",
            "[1] 167\n",
            "[1] 168\n",
            "[1] 169\n",
            "[1] 170\n",
            "[1] 171\n",
            "[1] 172\n",
            "[1] 173\n",
            "[1] 174\n",
            "[1] 175\n",
            "[1] 176\n",
            "[1] 177\n",
            "[1] 178\n",
            "[1] 179\n",
            "[1] 180\n",
            "[1] 181\n",
            "[1] 182\n",
            "[1] 183\n",
            "[1] 184\n",
            "[1] 185\n",
            "[1] 186\n",
            "[1] 187\n",
            "[1] 188\n",
            "[1] 189\n",
            "[1] 190\n",
            "[1] 191\n",
            "[1] 192\n",
            "[1] 193\n",
            "[1] 194\n",
            "[1] 195\n",
            "[1] 196\n",
            "[1] 197\n",
            "[1] 198\n",
            "[1] 199\n",
            "[1] 200\n",
            "[1] 201\n",
            "[1] 202\n",
            "[1] 203\n",
            "[1] 204\n",
            "[1] 205\n",
            "[1] 206\n",
            "[1] 207\n",
            "[1] 208\n",
            "[1] 209\n",
            "[1] 210\n",
            "[1] 211\n",
            "[1] 212\n",
            "[1] 213\n",
            "[1] 214\n",
            "[1] 215\n",
            "[1] 216\n",
            "[1] 217\n",
            "[1] 218\n"
          ],
          "name": "stdout"
        }
      ]
    },
    {
      "cell_type": "markdown",
      "metadata": {
        "id": "DRGajjI4zFaY"
      },
      "source": [
        "## Part 2) Calculating features directly on Python"
      ]
    },
    {
      "cell_type": "markdown",
      "metadata": {
        "id": "TXtt5JaX3lkL"
      },
      "source": [
        "Load the function into python environment through rpy2 so\n",
        "it can be later accessed directly from python code"
      ]
    },
    {
      "cell_type": "code",
      "metadata": {
        "id": "JgEtQkSszEZq"
      },
      "source": [
        "import rpy2.robjects as robjects\n",
        "calculate_features = robjects.r['calculate_features']"
      ],
      "execution_count": 10,
      "outputs": []
    },
    {
      "cell_type": "markdown",
      "metadata": {
        "id": "x9_Z_fov31G5"
      },
      "source": [
        "\n",
        "we can now call `calculate_features` directly from python, here we have two examples using both the 'tsfeatures' and the 'catch22' features.\n",
        "We will first remove the files just in case"
      ]
    },
    {
      "cell_type": "markdown",
      "metadata": {
        "id": "4vTrBGvC5RbD"
      },
      "source": [
        "Compute the features, we capture the stdout output to remove the verbosiness  of the progress report"
      ]
    },
    {
      "cell_type": "code",
      "metadata": {
        "id": "2dUeI4eK3gdl"
      },
      "source": [
        "%%capture cap --no-stderr\n",
        "calculate_features(\"sample\", \"sample.tsf\", \"series_name\", \"start_timestamp\", \"tsfeatures\")\n",
        "calculate_features(\"sample\", \"sample.tsf\", \"series_name\", \"start_timestamp\", \"catch22\")"
      ],
      "execution_count": 11,
      "outputs": []
    },
    {
      "cell_type": "markdown",
      "metadata": {
        "id": "b9kj6-716Kr_"
      },
      "source": [
        "The functions write the outputs to .csv files in the project directory\n",
        "structure. We can quickly check if the experiments runs OK, we should see some features in the following files."
      ]
    },
    {
      "cell_type": "code",
      "metadata": {
        "colab": {
          "base_uri": "https://localhost:8080/"
        },
        "id": "9bQeEs0h4GEp",
        "outputId": "4209e615-6dbd-4c27-a9da-19b5a9b24abc"
      },
      "source": [
        "!echo \"head of the tsfeatures features\"\n",
        "!ls -r TSForecasting/results/tsfeatures\n",
        "!head -5 TSForecasting/results/tsfeatures/sample_features.csv\n",
        "!echo \"head of the catch22 features\"\n",
        "!ls -r TSForecasting/results/catch22_features\n",
        "!head -5 TSForecasting/results/catch22_features/sample_features.csv"
      ],
      "execution_count": 12,
      "outputs": [
        {
          "output_type": "stream",
          "text": [
            "head of the tsfeatures features\n",
            "sample_features.csv\n",
            "mean,var,max_kl_shift,time_kl_shift,max_level_shift,time_level_shift,max_var_shift,time_var_shift,x_acf1,x_acf10,diff1_acf1,diff1_acf10,diff2_acf1,diff2_acf10,seas_acf1,ARCH.LM,crossing_points,entropy,flat_spots,alpha,beta,hurst,lumpiness,nonlinearity,x_pacf5,diff1x_pacf5,diff2x_pacf5,seas_pacf,stability,unitroot_kpss,unitroot_pp,nperiods,seasonal_period,trend,spike,linearity,curvature,e_acf1,e_acf10,seasonal_strength,peak,trough\n",
            "105.652455128205,669.530932765715,1.2706668176004,52,0.755290510889679,2,0.959745807190754,2,0.710805797539225,1.51175743379058,-0.239716429411997,0.105249143633781,-0.539721534779089,0.372057773793558,-0.0890329975757608,0.257725362872141,22,0.795329846811295,14,0.628482857552452,0.000100053599224661,0.989518146632079,0.254142008742879,0.315470866286382,0.530751963124808,0.104820622256713,0.656220390192105,0.0363289043636947,0.160377933409522,0.459213533792908,-39.7197694054302,1,52,0.233768779821994,0.000210422925345378,-5.55942899540133,2.39533214964631,0.591233537304447,0.765941121065096,0.109449035559166,25,48\n",
            "49.7716987179487,772.610781811869,0.839629236664901,66,0.839749609933305,28,0.997495073243511,41,0.677047428082113,2.186670634546,-0.489521359095838,0.327637852576462,-0.684495308361765,0.603668301365998,0.366006423407402,0.342277693416532,30,0.770663441884257,11,0.366867233704766,0.119105005852994,0.975089820778829,0.209917426456151,0.915497818501917,0.652095184148211,0.304134190934737,0.952258917608722,-0.00458595761490728,0.156284193523684,0.746810454312143,-47.149028184773,1,52,0.240439965989366,4.32928740622952e-05,-2.29939710763147,-0.369476428328059,0.163023449155823,0.21881514434711,0.605618284900375,22,43\n",
            "68.8986987179487,354.065404753805,0.245474662440756,100,0.231017058816346,52,0.732010073283104,36,0.396776207736518,0.391441348259653,-0.433065943928756,0.245123265605131,-0.672527446081209,0.596366209338853,0.146158778832924,0.339082663016505,58,0.949027876416186,9,0.428997025937022,0.000109707531787864,0.851506460331287,0.00885327534128335,0.214076562310528,0.209705952358398,0.228482900053984,0.731588865958594,-0.0131399564747449,0.00472027043580687,0.0523753827880552,-103.559705800157,1,52,0,0.000170136022446882,-0.517424624005386,-0.818970135635544,0.262896487857182,0.122365708821902,0.310130382597552,19,15\n",
            "67.9277564102564,972.603663346733,4.01423644705766,52,0.489877028965437,54,1.6271986497032,54,0.853866796051072,2.18918769377603,-0.0839302466200159,0.0926306645590518,-0.52544023281588,0.370262782991694,0.0281208018286578,0.71711510583483,31,0.698693098843229,11,0.917283840642122,0.000100001377192751,0.997428334361024,0.668062769529442,0.419709548573525,0.784249433161125,0.0474676933315618,0.495128178635405,-0.00236501574109339,0.0603819527400835,0.274663415148857,-17.9201066910306,1,52,0.064193788264628,0.000197908691284746,0.812279859264317,6.27474073105837,0.847667940884775,1.72461797340037,0.0177219837741033,10,38\n",
            "head of the catch22 features\n",
            "sample_features.csv\n",
            "DN_HistogramMode_5,DN_HistogramMode_10,CO_f1ecac,CO_FirstMin_ac,CO_HistogramAMI_even_2_5,CO_trev_1_num,MD_hrv_classic_pnn40,SB_BinaryStats_mean_longstretch1,SB_TransitionMatrix_3ac_sumdiagcov,PD_PeriodicityWang_th0_01,CO_Embed2_Dist_tau_d_expfit_meandiff,IN_AutoMutualInfoStats_40_gaussian_fmmi,FC_LocalSimple_mean1_tauresrat,DN_OutlierInclude_p_001_mdrmd,DN_OutlierInclude_n_001_mdrmd,SP_Summaries_welch_rect_area_5_1,SB_BinaryStats_diff_longstretch0,SB_MotifThree_quantile_hh,SC_FluctAnal_2_rsrangefit_50_1_logi_prop_r1,SC_FluctAnal_2_dfa_50_1_2_logi_prop_r1,SP_Summaries_welch_rect_centroid,FC_LocalSimple_mean3_stderr\n",
            "-0.922043763754861,-0.576248683034993,5,15,0.315664751812052,-0.10536831576551,0.935483870967742,19,0.0115740740740741,44,0.147307635300968,11,0.0833333333333333,-0.467948717948718,-0.153846153846154,0.710854613926757,6,1.87169409529269,0.725,0.8,0.196349540849375,0.696265012352172\n",
            "-0.61295776629442,-0.843315670994809,7,10,0.271937269772718,0.00916674396990751,0.909677419354839,17,0.0137741046831956,42,0.163339260691723,9,0.0769230769230769,-0.307692307692308,0.455128205128205,0.749104475100392,5,1.81070352550543,0.8,0.25,0.147262155637031,0.657925671941043\n",
            "-0.167941838208256,-0.450649273092616,2,6,0.132706910533565,-0.00144520190911497,0.961290322580645,8,0.0072840790842872,25,0.0878837356097735,4,0.2,0.262820512820513,0.211538461538461,0.511183134323912,5,2.1735921600141,0.85,0.7,0.564504929941953,0.94542958313992\n",
            "-0.545184775634607,-0.273351630872469,5,16,0.461434673106742,0.169470868256624,0.825806451612903,27,0.0185185185185185,0,0.328443708359191,11,0.0833333333333333,0.871794871794872,-0.743589743589744,0.843873114604168,6,1.80068917684451,0.325,0.85,0.171805848243203,0.562350705644476\n"
          ],
          "name": "stdout"
        }
      ]
    }
  ]
}